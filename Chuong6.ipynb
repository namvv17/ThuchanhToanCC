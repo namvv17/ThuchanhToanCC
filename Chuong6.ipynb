{
  "nbformat": 4,
  "nbformat_minor": 0,
  "metadata": {
    "colab": {
      "name": "Chuong6.ipynb",
      "provenance": [],
      "include_colab_link": true
    },
    "kernelspec": {
      "name": "python3",
      "display_name": "Python 3"
    },
    "language_info": {
      "name": "python"
    }
  },
  "cells": [
    {
      "cell_type": "markdown",
      "metadata": {
        "id": "view-in-github",
        "colab_type": "text"
      },
      "source": [
        "<a href=\"https://colab.research.google.com/github/namvv17/ThuchanhToanCC/blob/main/Chuong6.ipynb\" target=\"_parent\"><img src=\"https://colab.research.google.com/assets/colab-badge.svg\" alt=\"Open In Colab\"/></a>"
      ]
    },
    {
      "cell_type": "markdown",
      "source": [
        "#**CHƯƠNG 6: HÀM SỐ, DÃY VÀ MỘT SỐ ỨNG DỤNG**"
      ],
      "metadata": {
        "id": "ttseSqy9P773"
      }
    },
    {
      "cell_type": "markdown",
      "source": [
        "**Thực hành 1: Viết hàm đệ quy tính n!**"
      ],
      "metadata": {
        "id": "sUn_mEtdQCj0"
      }
    },
    {
      "cell_type": "code",
      "execution_count": null,
      "metadata": {
        "id": "tsOTutZyPezJ"
      },
      "outputs": [],
      "source": [
        "import math \n",
        "def giaithua(n): \n",
        " if (n==0): \n",
        "  return 1 \n",
        " else: \n",
        "  return n*giaithua(n-1) \n"
      ]
    },
    {
      "cell_type": "code",
      "source": [
        "giaithua(3)"
      ],
      "metadata": {
        "colab": {
          "base_uri": "https://localhost:8080/"
        },
        "id": "qYj0g9jSQUf2",
        "outputId": "ff53c858-188f-4dc2-cc5e-a9898ad0f4da"
      },
      "execution_count": null,
      "outputs": [
        {
          "output_type": "execute_result",
          "data": {
            "text/plain": [
              "6"
            ]
          },
          "metadata": {},
          "execution_count": 5
        }
      ]
    },
    {
      "cell_type": "code",
      "source": [
        "giaithua(4)"
      ],
      "metadata": {
        "colab": {
          "base_uri": "https://localhost:8080/"
        },
        "id": "saAesnzoQYYU",
        "outputId": "380e40bd-d0a4-4757-f5f2-6637abde01f4"
      },
      "execution_count": null,
      "outputs": [
        {
          "output_type": "execute_result",
          "data": {
            "text/plain": [
              "24"
            ]
          },
          "metadata": {},
          "execution_count": 6
        }
      ]
    },
    {
      "cell_type": "markdown",
      "source": [
        "**Thực hành 2: Viết hàm đệ quy tính dãy số Fibonacci**"
      ],
      "metadata": {
        "id": "cfzL-23IQghU"
      }
    },
    {
      "cell_type": "code",
      "source": [
        "def fibo(n): \n",
        " if n == 0: \n",
        "  return 0 \n",
        " if n == 1: \n",
        "  return 1 \n",
        " return fibo(n-1) + fibo(n-2)"
      ],
      "metadata": {
        "id": "T00oqTnEQhyw"
      },
      "execution_count": null,
      "outputs": []
    },
    {
      "cell_type": "code",
      "source": [
        "fibo(4) "
      ],
      "metadata": {
        "colab": {
          "base_uri": "https://localhost:8080/"
        },
        "id": "0rF1TIDHQoZK",
        "outputId": "0abecc80-48d5-4093-c993-43be39cfcac8"
      },
      "execution_count": null,
      "outputs": [
        {
          "output_type": "execute_result",
          "data": {
            "text/plain": [
              "3"
            ]
          },
          "metadata": {},
          "execution_count": 18
        }
      ]
    },
    {
      "cell_type": "code",
      "source": [
        "fibo(5) "
      ],
      "metadata": {
        "colab": {
          "base_uri": "https://localhost:8080/"
        },
        "id": "3ano3alsQo1q",
        "outputId": "c06f0f3f-05ff-4a20-dbeb-2a172ff0fd03"
      },
      "execution_count": null,
      "outputs": [
        {
          "output_type": "execute_result",
          "data": {
            "text/plain": [
              "5"
            ]
          },
          "metadata": {},
          "execution_count": 19
        }
      ]
    },
    {
      "cell_type": "code",
      "source": [
        "fibo(6) "
      ],
      "metadata": {
        "colab": {
          "base_uri": "https://localhost:8080/"
        },
        "id": "fGybpJn4QpW7",
        "outputId": "5ec0cf77-6e83-4537-846b-3e6a808f8a14"
      },
      "execution_count": null,
      "outputs": [
        {
          "output_type": "execute_result",
          "data": {
            "text/plain": [
              "8"
            ]
          },
          "metadata": {},
          "execution_count": 17
        }
      ]
    },
    {
      "cell_type": "markdown",
      "source": [
        "Quy trình tìm giới hạn của các dãy dạng đệ quy như sau: \n",
        "\n",
        "Bước 1: Giải phương trình tìm nghiệm là các điểm bất động \u0015\b0\n",
        " = 0. \n",
        "\n",
        "Bước 2: Nếu dãy số không phải là dãy hằng thì xác định khoảng \b\u0011, 1\n",
        " thỏa \u0011 và 1 đều \n",
        "là điểm bất động và vùng có điểm cuối (end point) (có thể là ±∞) thỏa không tồn tại \n",
        "điểm bất động trong \b\u0011, 1\n",
        " và giá trị ban đầu của dãy nằm trong khoảng \b\u0011, 1\n",
        ". \n",
        "\n",
        "Bước 3: Kiểm tra khi nào hàm \u0015 sẽ ánh xạ vào trong khoảng \b\u0011, 1\n",
        " ở bước 2. \n",
        "\n",
        "Bước 4: Nếu ở bước 3 kiểm tra \u0015 nằm trong \b\u0011, 1\n",
        " thì: \n",
        "Nếu dãy {\u0011\u0012} là đơn điệu thì hoặc 567\u0012→8 \u0011\u0012 = 1 hoặc 567\u0012→8 \u0011\u0012 = \u0011. \n",
        "Nếu \u0015 không nằm trong \b\u0011, 1\n",
        " thì kiểm tra \u0015 nằm trong \b\u0011, \u0011\u0016\n",
        ", nếu \u0011 < )\u0016 < \u0011\u0014 hoặc \n",
        "kiểm tra \u0015 nằm trong \b\u0011\u0014, 1\n",
        ", nếu \u0011\u0014 < \u0011\u0016 < :."
      ],
      "metadata": {
        "id": "4_pRPvN0Q24W"
      }
    },
    {
      "cell_type": "markdown",
      "source": [
        "**Thực hành 3: Chứng minh dãy có giới hạn và tìm giới hạn của dãy**"
      ],
      "metadata": {
        "id": "7qBZlxF2RF1w"
      }
    },
    {
      "cell_type": "code",
      "source": [
        "def an_exp_an(n): \n",
        " if n == 1: \n",
        "  return 1.0/2 \n",
        " else: \n",
        "  return an_exp_an(n-1)**an_exp_an(n-1)"
      ],
      "metadata": {
        "id": "f3eOJl70Q989"
      },
      "execution_count": null,
      "outputs": []
    },
    {
      "cell_type": "code",
      "source": [
        " an_exp_an(1) \n"
      ],
      "metadata": {
        "colab": {
          "base_uri": "https://localhost:8080/"
        },
        "id": "36Ie11UvRNG2",
        "outputId": "3aea749d-afe6-44c1-c17f-e355f39b0285"
      },
      "execution_count": null,
      "outputs": [
        {
          "output_type": "execute_result",
          "data": {
            "text/plain": [
              "0.5"
            ]
          },
          "metadata": {},
          "execution_count": 21
        }
      ]
    },
    {
      "cell_type": "code",
      "source": [
        " an_exp_an(2) \n"
      ],
      "metadata": {
        "colab": {
          "base_uri": "https://localhost:8080/"
        },
        "id": "IdXRqwCcROC8",
        "outputId": "f59261ef-aa13-4bb9-fd13-96e0d136f803"
      },
      "execution_count": null,
      "outputs": [
        {
          "output_type": "execute_result",
          "data": {
            "text/plain": [
              "0.7071067811865476"
            ]
          },
          "metadata": {},
          "execution_count": 22
        }
      ]
    },
    {
      "cell_type": "code",
      "source": [
        " an_exp_an(3) \n"
      ],
      "metadata": {
        "colab": {
          "base_uri": "https://localhost:8080/"
        },
        "id": "OO6u2Wa9ROkL",
        "outputId": "3711a2e3-a1d6-4c32-dae1-1d14ded84685"
      },
      "execution_count": null,
      "outputs": [
        {
          "output_type": "execute_result",
          "data": {
            "text/plain": [
              "0.7826540273556803"
            ]
          },
          "metadata": {},
          "execution_count": 23
        }
      ]
    },
    {
      "cell_type": "code",
      "source": [
        " an_exp_an(4) \n"
      ],
      "metadata": {
        "colab": {
          "base_uri": "https://localhost:8080/"
        },
        "id": "6DGTrSHwRTgX",
        "outputId": "fc038ade-9670-480b-a183-ac43ffccb9dc"
      },
      "execution_count": null,
      "outputs": [
        {
          "output_type": "execute_result",
          "data": {
            "text/plain": [
              "0.8254713306050621"
            ]
          },
          "metadata": {},
          "execution_count": 24
        }
      ]
    },
    {
      "cell_type": "code",
      "source": [
        " an_exp_an(5) \n"
      ],
      "metadata": {
        "colab": {
          "base_uri": "https://localhost:8080/"
        },
        "id": "UaFXmrzYRZBm",
        "outputId": "d011634a-e723-4aa9-a633-0ed033a16db0"
      },
      "execution_count": null,
      "outputs": [
        {
          "output_type": "execute_result",
          "data": {
            "text/plain": [
              "0.8535714578150946"
            ]
          },
          "metadata": {},
          "execution_count": 25
        }
      ]
    },
    {
      "cell_type": "code",
      "source": [
        " an_exp_an(10) \n"
      ],
      "metadata": {
        "colab": {
          "base_uri": "https://localhost:8080/"
        },
        "id": "zgENmL0NRbsA",
        "outputId": "386b25ce-a263-4432-8565-89448730a45b"
      },
      "execution_count": null,
      "outputs": [
        {
          "output_type": "execute_result",
          "data": {
            "text/plain": [
              "0.9176411981636667"
            ]
          },
          "metadata": {},
          "execution_count": 26
        }
      ]
    },
    {
      "cell_type": "markdown",
      "source": [
        "**Thực hành 4: Chứng minh dãy có giới hạn và tìm giới hạn của dãy **"
      ],
      "metadata": {
        "id": "99WEX7-0Rh6e"
      }
    },
    {
      "cell_type": "code",
      "source": [
        "def bai4(n): \n",
        " if n==1: \n",
        "  return 4 \n",
        " else: \n",
        "  return 5.0/(6-bai4(n-1))"
      ],
      "metadata": {
        "id": "4pIrhcmWRlak"
      },
      "execution_count": null,
      "outputs": []
    },
    {
      "cell_type": "code",
      "source": [
        "bai4(5)"
      ],
      "metadata": {
        "colab": {
          "base_uri": "https://localhost:8080/"
        },
        "id": "Z8bAx8K-RqgE",
        "outputId": "276f7ed2-8871-44d8-f67b-e6e6af8b1817"
      },
      "execution_count": null,
      "outputs": [
        {
          "output_type": "execute_result",
          "data": {
            "text/plain": [
              "1.019108280254777"
            ]
          },
          "metadata": {},
          "execution_count": 28
        }
      ]
    },
    {
      "cell_type": "code",
      "source": [
        "bai4(6)"
      ],
      "metadata": {
        "colab": {
          "base_uri": "https://localhost:8080/"
        },
        "id": "hK9A-nwKRrM8",
        "outputId": "4e028c14-fde7-4bb8-d009-d05266b76c7d"
      },
      "execution_count": null,
      "outputs": [
        {
          "output_type": "execute_result",
          "data": {
            "text/plain": [
              "1.0038363171355498"
            ]
          },
          "metadata": {},
          "execution_count": 29
        }
      ]
    },
    {
      "cell_type": "code",
      "source": [
        "bai4(7)"
      ],
      "metadata": {
        "colab": {
          "base_uri": "https://localhost:8080/"
        },
        "id": "PL5t0zGNRrl_",
        "outputId": "1dcf9863-aaae-4c08-fef8-a3679f8ff34f"
      },
      "execution_count": null,
      "outputs": [
        {
          "output_type": "execute_result",
          "data": {
            "text/plain": [
              "1.000767852572306"
            ]
          },
          "metadata": {},
          "execution_count": 32
        }
      ]
    },
    {
      "cell_type": "code",
      "source": [
        "bai4(10)"
      ],
      "metadata": {
        "colab": {
          "base_uri": "https://localhost:8080/"
        },
        "id": "Qm5GeYK1Rr4H",
        "outputId": "2026b5eb-5999-4fe5-ef3f-918cf96cb4e4"
      },
      "execution_count": null,
      "outputs": [
        {
          "output_type": "execute_result",
          "data": {
            "text/plain": [
              "1.0000061439905628"
            ]
          },
          "metadata": {},
          "execution_count": 30
        }
      ]
    },
    {
      "cell_type": "code",
      "source": [
        "bai4(100)"
      ],
      "metadata": {
        "colab": {
          "base_uri": "https://localhost:8080/"
        },
        "id": "-NyaC6NpRvGD",
        "outputId": "02f106b8-8ee4-43b6-bc6e-af7be43dec53"
      },
      "execution_count": null,
      "outputs": [
        {
          "output_type": "execute_result",
          "data": {
            "text/plain": [
              "1.0"
            ]
          },
          "metadata": {},
          "execution_count": 31
        }
      ]
    },
    {
      "cell_type": "markdown",
      "source": [
        "Các kết quả trên để nhận định đây là dãy tăng hay giảm? tang"
      ],
      "metadata": {
        "id": "GKWgk1nTR0yG"
      }
    },
    {
      "cell_type": "markdown",
      "source": [
        "Thực hành 5: Xét giới hạn của dãy An=Fn+1/Fn\n",
        " biết dãy Fibonacci được định nghĩa như sau:"
      ],
      "metadata": {
        "id": "AHdFeFinR4cs"
      }
    },
    {
      "cell_type": "code",
      "source": [
        " def tisoFibo(n): \n",
        "  if n==1: \n",
        "   return 1 \n",
        "  else: \n",
        "   return 1.0 + 1.0/tisoFibo(n-1)"
      ],
      "metadata": {
        "id": "KSvjKD_MSBJR"
      },
      "execution_count": null,
      "outputs": []
    },
    {
      "cell_type": "code",
      "source": [
        "for i in range(1, 11): \n",
        " print (i, tisoFibo(i)) "
      ],
      "metadata": {
        "colab": {
          "base_uri": "https://localhost:8080/"
        },
        "id": "7O8P60jySFva",
        "outputId": "3235e13d-387e-4103-e515-157bd177accb"
      },
      "execution_count": null,
      "outputs": [
        {
          "output_type": "stream",
          "name": "stdout",
          "text": [
            "1 1\n",
            "2 2.0\n",
            "3 1.5\n",
            "4 1.6666666666666665\n",
            "5 1.6\n",
            "6 1.625\n",
            "7 1.6153846153846154\n",
            "8 1.619047619047619\n",
            "9 1.6176470588235294\n",
            "10 1.6181818181818182\n"
          ]
        }
      ]
    },
    {
      "cell_type": "markdown",
      "source": [
        "Nhận xét gì về 10 số hạng đầu tiên? Dãy đơn điệu hay không đơn điệu? khong don dieu"
      ],
      "metadata": {
        "id": "fx7apd9rSP3a"
      }
    },
    {
      "cell_type": "markdown",
      "source": [
        "Nhận xét gì về 10 số hạng đầu tiên? Dãy đơn điệu hay không đơn điệu?"
      ],
      "metadata": {
        "id": "9sZddGNTStBO"
      }
    },
    {
      "cell_type": "code",
      "source": [
        "import sympy\n",
        "from sympy import Derivative, Symbol, sympify\n",
        "def grad_ascent (x0,ham_flx,x):\n",
        "  epsilon= 1e-6\n",
        "  step_size=1e-4\n",
        "  x_old=x0\n",
        "  x_new=x_old +step_size*ham_flx.subs({x:x_old}).evalf()\n",
        "  while abs(x_old-x_new)>epsilon:\n",
        "    x_old=x_new\n",
        "    x_new=x_old+step_size*ham_flx.subs({x:x_old}).evalf\n",
        "    return x_new\n",
        "\n",
        "if __name__ =='__main__':\n",
        "  f=input('Nhap ham 1 bien (f): ')\n",
        "  var=input('Nhap ten bien tuong ung (x): ')\n",
        "  var0= float(input('Nhap gia tri khoi dau cua bien x: '))\n",
        "\n",
        "  try:\n",
        "    f=sympify(f)\n",
        "  except:\n",
        "    print('Ham nhap khong hop le!')\n",
        "  else:\n",
        "    var=Symbol(var)\n",
        "    d=Derivative(f,var).doit()\n",
        "    var_max=grad_ascent(var0,d,var)\n",
        "    print('{0}:{1}'.format(var.name,var_max))\n",
        "    print('Maximum value:{0}'.format(f.subs({var:var_max})))    \n",
        "\n",
        "\n"
      ],
      "metadata": {
        "colab": {
          "base_uri": "https://localhost:8080/"
        },
        "id": "rPsU8kTiSSvf",
        "outputId": "cb9a7cb0-e989-483f-bc68-2c242ba706b8"
      },
      "execution_count": null,
      "outputs": [
        {
          "output_type": "stream",
          "name": "stdout",
          "text": [
            "Nhap ham 1 bien (f): 1e-6\n",
            "Nhap ten bien tuong ung (x): theta\n",
            "Nhap gia tri khoi dau cua bien x: 0.001\n",
            "theta:None\n",
            "Maximum value:0.00000100000000000000\n"
          ]
        }
      ]
    },
    {
      "cell_type": "markdown",
      "source": [
        "Nhap ham 1 bien (f): cos(t) \n",
        "\n",
        "Nhap ten bien tuong ung (x): t \n",
        "\n",
        "Nhap gia tri khoi dau cho bien x: 0.01\n"
      ],
      "metadata": {
        "id": "PXSThO3bXikE"
      }
    },
    {
      "cell_type": "markdown",
      "source": [
        "Nhap ham 1 bien (f): cos(t)+p \n",
        "\n",
        "Nhap ten bien tuong ung (x): t \n",
        "\n",
        "Nhap gia tri khoi dau cho bien x: 0.01 \n"
      ],
      "metadata": {
        "id": "9QF3klmyXmgg"
      }
    },
    {
      "cell_type": "markdown",
      "source": [
        "Giá trị bắt đầu là -2: \n",
        "\n",
        "Nhap ham 1 bien (f): x**5-30*x**3+50*x \n",
        "\n",
        "Nhap ten bien tuong ung (x): x \n",
        "\n",
        "Nhap gia tri khoi dau cho bien x: -2\n"
      ],
      "metadata": {
        "id": "icDRJgiQXx-_"
      }
    },
    {
      "cell_type": "markdown",
      "source": [
        "Giá trị bắt đầu là 0.5: \n",
        "\n",
        "Nhap ham 1 bien (f): x**5-30*x**3+50*x \n",
        "\n",
        "Nhap ten bien tuong ung (x): x \n",
        "\n",
        "Nhap gia tri khoi dau cho bien x: 0.5\n"
      ],
      "metadata": {
        "id": "1ZEOBfVGXzzW"
      }
    },
    {
      "cell_type": "markdown",
      "source": [
        "**Vai trò của kích thước bước nhảy (step_size) và Epsilon**"
      ],
      "metadata": {
        "id": "cpnLVuKgX5HM"
      }
    },
    {
      "cell_type": "code",
      "source": [
        "from sympy import Derivative, Symbol, sympify \n",
        "def grad_ascent(x0, ham_f1x, x): \n",
        " from sympy import solve, E \n",
        " if not solve(ham_f1x): \n",
        "   print('Khong the tiep tuc, phuong trinh {0}=0 vo nghiem'.format(ham_f1x)) \n",
        "   return \n",
        " # như đoạn mã cũ \n",
        " epsilon = 1e-6 \n",
        " step_size = 1e-4 \n",
        " x_old = x0 \n",
        " x_new = x_old + step_size*ham_f1x.subs({x:x_old}).evalf() \n",
        " while abs(x_old - x_new) > epsilon: \n",
        "  x_old = x_new \n",
        "  x_new = x_old + step_size*ham_f1x.subs({x:x_old}).evalf() \n",
        " \n",
        " return x_new \n",
        "if __name__ == '__main__': \n",
        " f = input('Nhap ham 1 bien (f): ') \n",
        " var = input('Nhap ten bien tuong ung (x): ')  \n",
        " var0 = float(input('Nhap gia tri khoi dau cho bien x: ')) \n",
        " \n",
        " try: \n",
        "  f = sympify(f) # kiem tra ham \n",
        " except SympifyError: \n",
        "  print('Ham nhap khong hop le!') \n",
        " else: \n",
        "  var = Symbol(var) \n",
        "  d = Derivative(f, var).doit() \n",
        "  var_max = grad_ascent(var0, d, var) \n",
        " # thêm lệnh if (nằm trong khối lệnh else) để kiểm tra giá trị var_max trước khi kết luận: \n",
        "  if var_max: \n",
        "   print('{0}: {1}'.format(var.name, var_max)) \n",
        "   print('Maximum value: {0}'.format(f.subs({var:var_max})))"
      ],
      "metadata": {
        "colab": {
          "base_uri": "https://localhost:8080/"
        },
        "id": "VWfKbgiwXhVu",
        "outputId": "f7f04ca7-2c86-4d89-9800-f65a44408651"
      },
      "execution_count": null,
      "outputs": [
        {
          "output_type": "stream",
          "name": "stdout",
          "text": [
            "Nhap ham 1 bien (f): 4\n",
            "Nhap ten bien tuong ung (x): 5\n",
            "Nhap gia tri khoi dau cho bien x: 2\n",
            "Khong the tiep tuc, phuong trinh 0=0 vo nghiem\n"
          ]
        }
      ]
    },
    {
      "cell_type": "markdown",
      "source": [
        "Thực hành: Thử nghiệm với các hàm eXvaf logx"
      ],
      "metadata": {
        "id": "lFzVZqiyZVan"
      }
    },
    {
      "cell_type": "markdown",
      "source": [
        "Nhap ham 1 bien (f): log(x)\n",
        "\n",
        "Nhap ten bien tuong ung (x): x \n",
        "\n",
        "Nhap gia tri khoi dau cho bien x: 0.1 \n"
      ],
      "metadata": {
        "id": "EfWMfC5wZcUC"
      }
    },
    {
      "cell_type": "markdown",
      "source": [
        "Nhap ham 1 bien (f): E**x\n",
        "\n",
        "Nhap ten bien tuong ung (x): x \n",
        "\n",
        "Nhap gia tri khoi dau cho bien x: 0.1 \n"
      ],
      "metadata": {
        "id": "QlN6dfucZeh3"
      }
    }
  ]
}