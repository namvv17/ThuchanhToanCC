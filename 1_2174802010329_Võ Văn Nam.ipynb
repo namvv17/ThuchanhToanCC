{
  "nbformat": 4,
  "nbformat_minor": 0,
  "metadata": {
    "colab": {
      "name": "1-2174802010004-Bùi Văn Minh Tiến.ipynb",
      "provenance": [],
      "collapsed_sections": [],
      "include_colab_link": true
    },
    "kernelspec": {
      "name": "python3",
      "display_name": "Python 3"
    },
    "language_info": {
      "name": "python"
    }
  },
  "cells": [
    {
      "cell_type": "markdown",
      "metadata": {
        "id": "view-in-github",
        "colab_type": "text"
      },
      "source": [
        "<a href=\"https://colab.research.google.com/github/namvv17/ThuchanhToanCC/blob/main/1_2174802010329_V%C3%B5%20V%C4%83n%20Nam.ipynb\" target=\"_parent\"><img src=\"https://colab.research.google.com/assets/colab-badge.svg\" alt=\"Open In Colab\"/></a>"
      ]
    },
    {
      "cell_type": "markdown",
      "source": [
        "Bài 1 "
      ],
      "metadata": {
        "id": "2-0UiEB2oW-_"
      }
    },
    {
      "cell_type": "markdown",
      "source": [
        "1"
      ],
      "metadata": {
        "id": "tPyMwqYIosTd"
      }
    },
    {
      "cell_type": "code",
      "execution_count": null,
      "metadata": {
        "id": "DKeRN6h1h0Hj"
      },
      "outputs": [],
      "source": [
        "from sympy import Symbol, Derivative"
      ]
    },
    {
      "cell_type": "code",
      "source": [
        "x = Symbol('x')"
      ],
      "metadata": {
        "id": "aL31wGyMoH7r"
      },
      "execution_count": null,
      "outputs": []
    },
    {
      "cell_type": "code",
      "source": [
        "tich_phan =(2*x-1)/(x+1)"
      ],
      "metadata": {
        "id": "36NOmujQoJ7g"
      },
      "execution_count": null,
      "outputs": []
    },
    {
      "cell_type": "code",
      "source": [
        "ket_qua = Integral(tich_phan,(x,0,1))\n",
        "ket_qua"
      ],
      "metadata": {
        "colab": {
          "base_uri": "https://localhost:8080/",
          "height": 79
        },
        "id": "CoBf2DFBoSTU",
        "outputId": "4733be0e-1884-4343-a915-1597b49e87d8"
      },
      "execution_count": null,
      "outputs": [
        {
          "output_type": "execute_result",
          "data": {
            "text/plain": [
              "Integral((2*x - 1)/(x + 1), (x, 0, 1))"
            ],
            "text/latex": "$\\displaystyle \\int\\limits_{0}^{1} \\frac{2 x - 1}{x + 1}\\, dx$"
          },
          "metadata": {},
          "execution_count": 27
        }
      ]
    },
    {
      "cell_type": "code",
      "source": [
        "ket_qua.doit()"
      ],
      "metadata": {
        "colab": {
          "base_uri": "https://localhost:8080/",
          "height": 38
        },
        "id": "g8V4QMyOoeGW",
        "outputId": "73b6db17-38dc-4b04-b665-07f089a58caa"
      },
      "execution_count": null,
      "outputs": [
        {
          "output_type": "execute_result",
          "data": {
            "text/plain": [
              "2 - 3*log(2)"
            ],
            "text/latex": "$\\displaystyle 2 - 3 \\log{\\left(2 \\right)}$"
          },
          "metadata": {},
          "execution_count": 28
        }
      ]
    },
    {
      "cell_type": "markdown",
      "source": [
        "5"
      ],
      "metadata": {
        "id": "zSRejWjTotCt"
      }
    },
    {
      "cell_type": "code",
      "source": [
        "x = Symbol('x')"
      ],
      "metadata": {
        "id": "L5A6QjJ3pzD0"
      },
      "execution_count": null,
      "outputs": []
    },
    {
      "cell_type": "code",
      "source": [
        "tich_phan1 = (2*x+1)/(x*(x+1))"
      ],
      "metadata": {
        "id": "zD3jXO9qpFrS"
      },
      "execution_count": null,
      "outputs": []
    },
    {
      "cell_type": "code",
      "source": [
        "ket_qua = Integral(tich_phan1,(x,1,2))\n",
        "ket_qua"
      ],
      "metadata": {
        "colab": {
          "base_uri": "https://localhost:8080/",
          "height": 79
        },
        "id": "GDqtfe56pM03",
        "outputId": "0665a617-64f8-42db-9b59-dbd35e774bbb"
      },
      "execution_count": null,
      "outputs": [
        {
          "output_type": "execute_result",
          "data": {
            "text/plain": [
              "Integral((2*x + 1)/(x*(x + 1)), (x, 1, 2))"
            ],
            "text/latex": "$\\displaystyle \\int\\limits_{1}^{2} \\frac{2 x + 1}{x \\left(x + 1\\right)}\\, dx$"
          },
          "metadata": {},
          "execution_count": 38
        }
      ]
    },
    {
      "cell_type": "code",
      "source": [
        "ket_qua.doit()"
      ],
      "metadata": {
        "colab": {
          "base_uri": "https://localhost:8080/",
          "height": 38
        },
        "id": "WDH_TaVuqMIW",
        "outputId": "1281b5ee-a347-4437-80e0-986144e442c2"
      },
      "execution_count": null,
      "outputs": [
        {
          "output_type": "execute_result",
          "data": {
            "text/plain": [
              "-log(2) + log(6)"
            ],
            "text/latex": "$\\displaystyle - \\log{\\left(2 \\right)} + \\log{\\left(6 \\right)}$"
          },
          "metadata": {},
          "execution_count": 39
        }
      ]
    },
    {
      "cell_type": "markdown",
      "source": [
        "Tính đạo hàm"
      ],
      "metadata": {
        "id": "JOx-7h_SqPzZ"
      }
    },
    {
      "cell_type": "code",
      "source": [
        "from sympy import Derivative, Symbol"
      ],
      "metadata": {
        "id": "vyt2Ku5AqmEU"
      },
      "execution_count": null,
      "outputs": []
    },
    {
      "cell_type": "markdown",
      "source": [
        "2"
      ],
      "metadata": {
        "id": "c8J2A-WhrPSa"
      }
    },
    {
      "cell_type": "code",
      "source": [
        "x = Symbol('x')"
      ],
      "metadata": {
        "id": "uAUyhoYcqnz4"
      },
      "execution_count": null,
      "outputs": []
    },
    {
      "cell_type": "code",
      "source": [
        "f = (2*x-1)/(x+2)\n",
        "f"
      ],
      "metadata": {
        "colab": {
          "base_uri": "https://localhost:8080/",
          "height": 53
        },
        "id": "4Ji_ghdeqo5c",
        "outputId": "9d964a65-cfea-4e4a-a5ab-19f73525ec49"
      },
      "execution_count": null,
      "outputs": [
        {
          "output_type": "execute_result",
          "data": {
            "text/plain": [
              "(2*x - 1)/(x + 2)"
            ],
            "text/latex": "$\\displaystyle \\frac{2 x - 1}{x + 2}$"
          },
          "metadata": {},
          "execution_count": 43
        }
      ]
    },
    {
      "cell_type": "code",
      "source": [
        "Derivative(f, x).doit()"
      ],
      "metadata": {
        "colab": {
          "base_uri": "https://localhost:8080/",
          "height": 58
        },
        "id": "C6Km2t6dqvyn",
        "outputId": "0a86a6cf-fe57-44d7-b296-2c22fd23e089"
      },
      "execution_count": null,
      "outputs": [
        {
          "output_type": "execute_result",
          "data": {
            "text/plain": [
              "2/(x + 2) - (2*x - 1)/(x + 2)**2"
            ],
            "text/latex": "$\\displaystyle \\frac{2}{x + 2} - \\frac{2 x - 1}{\\left(x + 2\\right)^{2}}$"
          },
          "metadata": {},
          "execution_count": 44
        }
      ]
    },
    {
      "cell_type": "markdown",
      "source": [
        "6"
      ],
      "metadata": {
        "id": "RqYRf3AzrNfL"
      }
    },
    {
      "cell_type": "code",
      "source": [
        "f = 2/3*x**3-5*x**2+2*x+4\n",
        "f"
      ],
      "metadata": {
        "colab": {
          "base_uri": "https://localhost:8080/",
          "height": 39
        },
        "id": "r1c3uZuyq772",
        "outputId": "99fac799-7955-40f4-d1ab-46a4f120dfe7"
      },
      "execution_count": null,
      "outputs": [
        {
          "output_type": "execute_result",
          "data": {
            "text/plain": [
              "0.666666666666667*x**3 - 5*x**2 + 2*x + 4"
            ],
            "text/latex": "$\\displaystyle 0.666666666666667 x^{3} - 5 x^{2} + 2 x + 4$"
          },
          "metadata": {},
          "execution_count": 47
        }
      ]
    },
    {
      "cell_type": "code",
      "source": [
        "Derivative(f, x).doit()"
      ],
      "metadata": {
        "colab": {
          "base_uri": "https://localhost:8080/",
          "height": 39
        },
        "id": "rczMDwxorGFK",
        "outputId": "9c549355-dec4-4dd2-b5f6-bf1374f223dc"
      },
      "execution_count": null,
      "outputs": [
        {
          "output_type": "execute_result",
          "data": {
            "text/plain": [
              "2.0*x**2 - 10*x + 2"
            ],
            "text/latex": "$\\displaystyle 2.0 x^{2} - 10 x + 2$"
          },
          "metadata": {},
          "execution_count": 46
        }
      ]
    }
  ]
}