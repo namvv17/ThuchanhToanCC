{
  "nbformat": 4,
  "nbformat_minor": 0,
  "metadata": {
    "colab": {
      "name": "Thực hành chương 3.ipynb",
      "provenance": [],
      "authorship_tag": "ABX9TyMYhLi3KcHq8MNcCMzPjCeo",
      "include_colab_link": true
    },
    "kernelspec": {
      "name": "python3",
      "display_name": "Python 3"
    },
    "language_info": {
      "name": "python"
    }
  },
  "cells": [
    {
      "cell_type": "markdown",
      "metadata": {
        "id": "view-in-github",
        "colab_type": "text"
      },
      "source": [
        "<a href=\"https://colab.research.google.com/github/namvv17/ThuchanhToanCC/blob/main/Th%E1%BB%B1c_h%C3%A0nh_ch%C6%B0%C6%A1ng_3.ipynb\" target=\"_parent\"><img src=\"https://colab.research.google.com/assets/colab-badge.svg\" alt=\"Open In Colab\"/></a>"
      ]
    },
    {
      "cell_type": "markdown",
      "source": [
        "Thực Hành Chương 3"
      ],
      "metadata": {
        "id": "zmehDPeKKcdF"
      }
    },
    {
      "cell_type": "markdown",
      "source": [
        "Thực Hành 1"
      ],
      "metadata": {
        "id": "epqfAl3LK6aI"
      }
    },
    {
      "cell_type": "code",
      "source": [
        "def luythua(x,n):\n",
        "  ketqua= 1\n",
        "  for i in range(n):\n",
        "    ketqua = ketqua*x\n",
        "  return ketqua"
      ],
      "metadata": {
        "id": "PrytfWwCK8v5"
      },
      "execution_count": 1,
      "outputs": []
    },
    {
      "cell_type": "code",
      "source": [
        "luythua(2,1)"
      ],
      "metadata": {
        "colab": {
          "base_uri": "https://localhost:8080/"
        },
        "id": "cEGlcbgROEwS",
        "outputId": "02bb1786-ceec-4271-c566-d21b1effda3b"
      },
      "execution_count": 2,
      "outputs": [
        {
          "output_type": "execute_result",
          "data": {
            "text/plain": [
              "2"
            ]
          },
          "metadata": {},
          "execution_count": 2
        }
      ]
    },
    {
      "cell_type": "code",
      "source": [
        "luythua(2,0)"
      ],
      "metadata": {
        "colab": {
          "base_uri": "https://localhost:8080/"
        },
        "id": "u66Go3R8Pu72",
        "outputId": "511cc6ad-58d7-47f5-bc40-58e5f2e1b6aa"
      },
      "execution_count": 3,
      "outputs": [
        {
          "output_type": "execute_result",
          "data": {
            "text/plain": [
              "1"
            ]
          },
          "metadata": {},
          "execution_count": 3
        }
      ]
    },
    {
      "cell_type": "markdown",
      "source": [
        "Thực Hành 2"
      ],
      "metadata": {
        "id": "fSUoVSzEP5a7"
      }
    },
    {
      "cell_type": "markdown",
      "source": [
        "ví dụ lỗi cú pháp"
      ],
      "metadata": {
        "id": "n0QsH80cQMSu"
      }
    },
    {
      "cell_type": "code",
      "source": [
        "while 1=2"
      ],
      "metadata": {
        "colab": {
          "base_uri": "https://localhost:8080/",
          "height": 130
        },
        "id": "cLcjVz-tP7rQ",
        "outputId": "7caca5a4-0a9b-4b82-c3c7-ed52c1d724ab"
      },
      "execution_count": 4,
      "outputs": [
        {
          "output_type": "error",
          "ename": "SyntaxError",
          "evalue": "ignored",
          "traceback": [
            "\u001b[0;36m  File \u001b[0;32m\"<ipython-input-4-9bdd5a710100>\"\u001b[0;36m, line \u001b[0;32m1\u001b[0m\n\u001b[0;31m    while 1=2\u001b[0m\n\u001b[0m           ^\u001b[0m\n\u001b[0;31mSyntaxError\u001b[0m\u001b[0;31m:\u001b[0m invalid syntax\n"
          ]
        }
      ]
    },
    {
      "cell_type": "code",
      "source": [
        "10*(1/0)"
      ],
      "metadata": {
        "colab": {
          "base_uri": "https://localhost:8080/",
          "height": 165
        },
        "id": "c5oGu8C1QR_2",
        "outputId": "818ef27e-3a50-471b-f9d7-610f3e60fe4d"
      },
      "execution_count": 5,
      "outputs": [
        {
          "output_type": "error",
          "ename": "ZeroDivisionError",
          "evalue": "ignored",
          "traceback": [
            "\u001b[0;31m---------------------------------------------------------------------------\u001b[0m",
            "\u001b[0;31mZeroDivisionError\u001b[0m                         Traceback (most recent call last)",
            "\u001b[0;32m<ipython-input-5-fbc7e86ae71a>\u001b[0m in \u001b[0;36m<module>\u001b[0;34m()\u001b[0m\n\u001b[0;32m----> 1\u001b[0;31m \u001b[0;36m10\u001b[0m\u001b[0;34m*\u001b[0m\u001b[0;34m(\u001b[0m\u001b[0;36m1\u001b[0m\u001b[0;34m/\u001b[0m\u001b[0;36m0\u001b[0m\u001b[0;34m)\u001b[0m\u001b[0;34m\u001b[0m\u001b[0;34m\u001b[0m\u001b[0m\n\u001b[0m",
            "\u001b[0;31mZeroDivisionError\u001b[0m: division by zero"
          ]
        }
      ]
    },
    {
      "cell_type": "code",
      "source": [
        "3*bien_chua_khai_bao/4"
      ],
      "metadata": {
        "id": "6uoOnw1WSzCI"
      },
      "execution_count": null,
      "outputs": []
    },
    {
      "cell_type": "code",
      "source": [
        "'ba'+7"
      ],
      "metadata": {
        "id": "KLeiVXl3TDhP"
      },
      "execution_count": null,
      "outputs": []
    },
    {
      "cell_type": "code",
      "source": [
        "10*(1/0)"
      ],
      "metadata": {
        "id": "5pUBRArBTNEs"
      },
      "execution_count": null,
      "outputs": []
    },
    {
      "cell_type": "code",
      "source": [
        "'ba'+(1/10)"
      ],
      "metadata": {
        "id": "aNWTjVfPTR2l"
      },
      "execution_count": null,
      "outputs": []
    },
    {
      "cell_type": "code",
      "source": [
        "ba'+7+(1/10)"
      ],
      "metadata": {
        "id": "F-0hFLKMTYl0"
      },
      "execution_count": null,
      "outputs": []
    },
    {
      "cell_type": "markdown",
      "source": [
        "Thực Hành 3"
      ],
      "metadata": {
        "id": "JEMfdDthTfMZ"
      }
    },
    {
      "cell_type": "code",
      "source": [
        "while True:\n",
        "  try:\n",
        "    x = int(input(\"Vui long nhap so: \"))\n",
        "    break\n",
        "  except:\n",
        "    print(\"Vui long nhap so. Khong nhap chu!\")"
      ],
      "metadata": {
        "colab": {
          "base_uri": "https://localhost:8080/"
        },
        "id": "ISds1COVUMhF",
        "outputId": "4f8a7f02-ce2f-4501-f51e-b5cb869056c2"
      },
      "execution_count": 39,
      "outputs": [
        {
          "name": "stdout",
          "output_type": "stream",
          "text": [
            "Vui long nhap so: 2\n"
          ]
        }
      ]
    },
    {
      "cell_type": "markdown",
      "source": [
        "Thực Hành 4"
      ],
      "metadata": {
        "id": "x-qOnwCSYj7c"
      }
    },
    {
      "cell_type": "code",
      "source": [
        "while True: \n",
        " try: \n",
        "  x = int(input('Vui long nhap so: ')) \n",
        " except: \n",
        "  print ('So vua nhap sai') \n",
        " else: \n",
        "  print ('so vua nhap la ' + str(x)) \n",
        "  break \n",
        " finally: \n",
        "  print ('Da hoan thanh chuong trinh')"
      ],
      "metadata": {
        "colab": {
          "base_uri": "https://localhost:8080/"
        },
        "id": "xvXICUMzYlpi",
        "outputId": "ad659e33-7a4c-4f97-ef15-7f0c843c78bd"
      },
      "execution_count": 40,
      "outputs": [
        {
          "output_type": "stream",
          "name": "stdout",
          "text": [
            "Vui long nhap so: 17\n",
            "so vua nhap la 17\n",
            "Da hoan thanh chuong trinh\n"
          ]
        }
      ]
    },
    {
      "cell_type": "markdown",
      "source": [
        "Thực Hanh 5"
      ],
      "metadata": {
        "id": "82GPK_64haxN"
      }
    },
    {
      "cell_type": "code",
      "source": [
        "def frange(batdau, ketthuc, buocnhay): \n",
        " day_ketqua = [] \n",
        " while batdau < ketthuc: \n",
        "   day_ketqua.append(batdau) \n",
        "   batdau = batdau + buocnhay \n",
        " return day_ketqua"
      ],
      "metadata": {
        "id": "6x88HPqbhcR4"
      },
      "execution_count": 41,
      "outputs": []
    },
    {
      "cell_type": "markdown",
      "source": [
        "Thực Hành 6"
      ],
      "metadata": {
        "id": "1PZ6C-j5jPPA"
      }
    },
    {
      "cell_type": "markdown",
      "source": [
        "+ Hàm 1: Hàm vẽ đồ thị"
      ],
      "metadata": {
        "id": "lBcUubCpjqdS"
      }
    },
    {
      "cell_type": "code",
      "source": [
        "from matplotlib import pyplot as plt \n",
        "import math"
      ],
      "metadata": {
        "id": "WMwDgtPnlkAh"
      },
      "execution_count": 58,
      "outputs": []
    },
    {
      "cell_type": "code",
      "source": [
        "def draw_graph(x, y): \n",
        "  plt.plot(x, y) \n",
        "  plt.xlabel('Truc X') \n",
        "  plt.ylabel('Truc Y') \n",
        "  plt.title('Do thi bai toan nem qua bong')"
      ],
      "metadata": {
        "id": "gny7XbjEkJ2D"
      },
      "execution_count": 59,
      "outputs": []
    },
    {
      "cell_type": "markdown",
      "source": [
        "Hàm 2: Hàm xử lý về tạo các khoảng số thực đều nhau"
      ],
      "metadata": {
        "id": "BRSWeS6flxij"
      }
    },
    {
      "cell_type": "code",
      "source": [
        "def frange(start, final, interval): \n",
        " numbers = [] \n",
        " while start < final: \n",
        "  numbers.append(start) \n",
        "  start = start + interval \n",
        " return numbers"
      ],
      "metadata": {
        "id": "3K6MqIVKlyTN"
      },
      "execution_count": 60,
      "outputs": []
    },
    {
      "cell_type": "markdown",
      "source": [
        "+ Hàm 3: Hàm tính toán các dãy X và Y để vẽ đồ thị tương ứng với hàm đạn đạo:"
      ],
      "metadata": {
        "id": "zgVcyuoXl2-q"
      }
    },
    {
      "cell_type": "code",
      "source": [
        "def draw_trajectory(u, theta): \n",
        " # Gia toc trong truong \n",
        "  g = 9.8 \n",
        " # Goc bay: \n",
        "  theta = math.radians(theta) \n",
        " # Thoi gian bay: \n",
        "  t_flight = 2*u*math.sin(theta)/g \n",
        " # Tinh toan khoang cach thoi gian \n",
        "  intervals = frange(0, t_flight, 0.001) \n",
        " # Danh sach toa do x va y \n",
        "  x = [] \n",
        "  y = [] \n",
        "  for t in intervals: \n",
        "   x.append(u*math.cos(theta)*t) \n",
        "   y.append(u*math.sin(theta)*t - 0.5*g*t*t) \n",
        "  draw_graph(x, y)"
      ],
      "metadata": {
        "id": "0ms5c45nl1Ge"
      },
      "execution_count": 61,
      "outputs": []
    },
    {
      "cell_type": "code",
      "source": [
        "if __name__ == '__main__':\n",
        " try: \n",
        "   u = float(input('Nhap van toc ban dau (m/s): ')) \n",
        "   theta = float(input('Nhap goc bay (degrees): ')) \n",
        " except ValueError: \n",
        "    print (' Nhap cac gia tri sai! ') \n",
        " else: \n",
        "    draw_trajectory(u, theta) \n",
        "    plt.show() \n",
        " finally: \n",
        "    print ('Hoan thanh chuong trinh!')"
      ],
      "metadata": {
        "colab": {
          "base_uri": "https://localhost:8080/",
          "height": 347
        },
        "id": "Kc3XlfTCl_Jw",
        "outputId": "88d5e67b-a7b1-40f1-91fc-034e833f6b3f"
      },
      "execution_count": 62,
      "outputs": [
        {
          "name": "stdout",
          "output_type": "stream",
          "text": [
            "Nhap van toc ban dau (m/s): 12\n",
            "Nhap goc bay (degrees): 50\n"
          ]
        },
        {
          "output_type": "display_data",
          "data": {
            "image/png": "[encoded data removed]",
            "text/plain": [
              "<Figure size 432x288 with 1 Axes>"
            ]
          },
          "metadata": {
            "needs_background": "light"
          }
        },
        {
          "output_type": "stream",
          "name": "stdout",
          "text": [
            "Hoan thanh chuong trinh!\n"
          ]
        }
      ]
    },
    {
      "cell_type": "code",
      "source": [
        "from matplotlib import pyplot as plt \n",
        "import math "
      ],
      "metadata": {
        "id": "9CoHxvEIniXs"
      },
      "execution_count": 65,
      "outputs": []
    },
    {
      "cell_type": "code",
      "source": [
        " def draw_graph(x, y): \n",
        "  plt.plot(x, y) \n",
        "  plt.xlabel('Truc X') \n",
        "  plt.ylabel('Truc Y') \n",
        "  plt.title('Do thi bai toan nem qua bong')\n",
        "  def frange(start, final, interval): \n",
        "   numbers = [] \n",
        "   while start < final: \n",
        "    numbers.append(start) \n",
        "    start = start + interval \n",
        "   return numbers \n",
        " def draw_trajectory(u, theta): \n",
        " # Gia toc trong truong \n",
        "  g = 9.8 \n",
        " # Goc bay: \n",
        "  theta = math.radians(theta) \n",
        " # Thoi gian bay: \n",
        "  t_flight = 2*u*math.sin(theta)/g \n",
        " # Tinh toan khoang cach thoi gian \n",
        "  intervals = frange(0, t_flight, 0.001) \n",
        " # Danh sach toa do x va y \n",
        "  x = [] \n",
        "  y = [] \n",
        "  for t in intervals: \n",
        "   x.append(u*math.cos(theta)*t) \n",
        "   y.append(u*math.sin(theta)*t - 0.5*g*t*t) \n",
        "  draw_graph(x, y)\n",
        "  if __name__ == '__main__':\n",
        "   try: \n",
        "    u = float(input('Nhap van toc ban dau (m/s): ')) \n",
        "    theta = float(input('Nhap goc bay (degrees): ')) \n",
        "   except ValueError: \n",
        "    print (' Nhap cac gia tri sai! ') \n",
        "   else: \n",
        "     draw_trajectory(u, theta) \n",
        "     plt.show() \n",
        "   finally: \n",
        "     print ('Hoan thanh chuong trinh!')"
      ],
      "metadata": {
        "id": "2qzPAg2Qne2g"
      },
      "execution_count": 66,
      "outputs": []
    },
    {
      "cell_type": "markdown",
      "source": [
        "Thực hành 7: Vẽ nhiều quỹ đạo trên cùng một đồ thị"
      ],
      "metadata": {
        "id": "uY1CXIoTnpNe"
      }
    },
    {
      "cell_type": "code",
      "source": [
        "if __name__ == '__main__':\n",
        "  # Danh sach cac toc do ban dau khac nhau\n",
        "  ds_vantoc = [20, 40, 60]\n",
        "  goc_bandau = 45 # 45 do\n",
        "  for v in ds_vantoc:\n",
        "    draw_trajectory(v, goc_bandau)\n",
        "\n",
        "\n",
        "    # Tao chu dan trong do thi\n",
        "  chudan = []\n",
        "  for i in ds_vantoc:\n",
        "    chudan.append(str(i))\n",
        "  # Xem chu dan duoc tao:\n",
        "  print(\"Chu dan duoc tao la: \")\n",
        "  print(chudan)\n",
        "  # Them chu dan vao do thi\n",
        "  plt.legend(chudan)\n",
        "  # Hien thi do thi\n",
        "  plt.show()"
      ],
      "metadata": {
        "colab": {
          "base_uri": "https://localhost:8080/"
        },
        "id": "vqo9dOrznp8P",
        "outputId": "012fc753-a37b-4f8d-b601-256be2c7c2a6"
      },
      "execution_count": null,
      "outputs": [
        {
          "name": "stdout",
          "output_type": "stream",
          "text": [
            "Nhap van toc ban dau (m/s): 20\n",
            "Nhap goc bay (degrees): 40\n",
            "Nhap van toc ban dau (m/s): 60\n",
            "Nhap goc bay (degrees): 20\n"
          ]
        }
      ]
    }
  ]
}