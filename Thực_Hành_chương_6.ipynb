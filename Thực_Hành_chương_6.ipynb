{
  "nbformat": 4,
  "nbformat_minor": 0,
  "metadata": {
    "colab": {
      "name": "Thực_Hành_chương_6.ipynb",
      "provenance": [],
      "collapsed_sections": [],
      "include_colab_link": true
    },
    "kernelspec": {
      "name": "python3",
      "display_name": "Python 3"
    },
    "language_info": {
      "name": "python"
    }
  },
  "cells": [
    {
      "cell_type": "markdown",
      "metadata": {
        "id": "view-in-github",
        "colab_type": "text"
      },
      "source": [
        "<a href=\"https://colab.research.google.com/github/namvv17/ThuchanhToanCC/blob/main/Th%E1%BB%B1c_H%C3%A0nh_ch%C6%B0%C6%A1ng_6.ipynb\" target=\"_parent\"><img src=\"https://colab.research.google.com/assets/colab-badge.svg\" alt=\"Open In Colab\"/></a>"
      ]
    },
    {
      "cell_type": "markdown",
      "source": [
        "# **CHƯƠNG 6: HÀM SỐ, DÃY VÀ MỘT SỐ ỨNG DỤNG**"
      ],
      "metadata": {
        "id": "tHo48BWqdGwx"
      }
    },
    {
      "cell_type": "markdown",
      "source": [
        "## **thuc hanh 1: Viết hàm đệ quy tính n!**"
      ],
      "metadata": {
        "id": "MiQFFnz8dUtO"
      }
    },
    {
      "cell_type": "code",
      "source": [
        "import math \n",
        "def giaithua(n): \n",
        " if (n==0): \n",
        "  return 1 \n",
        " else: \n",
        "  return n*giaithua(n-1) "
      ],
      "metadata": {
        "id": "DVmjRFxxdWqv"
      },
      "execution_count": null,
      "outputs": []
    },
    {
      "cell_type": "code",
      "source": [
        "giaithua(3)"
      ],
      "metadata": {
        "colab": {
          "base_uri": "https://localhost:8080/"
        },
        "id": "65bKWqxkdYYZ",
        "outputId": "54cffbac-26ac-4111-f94f-1c377e196e63"
      },
      "execution_count": null,
      "outputs": [
        {
          "output_type": "execute_result",
          "data": {
            "text/plain": [
              "6"
            ]
          },
          "metadata": {},
          "execution_count": 29
        }
      ]
    },
    {
      "cell_type": "code",
      "source": [
        "giaithua(4)"
      ],
      "metadata": {
        "colab": {
          "base_uri": "https://localhost:8080/"
        },
        "id": "zKWNxvg_dZkf",
        "outputId": "7792ecb2-f59d-48cb-e12b-e68189150c2e"
      },
      "execution_count": null,
      "outputs": [
        {
          "output_type": "execute_result",
          "data": {
            "text/plain": [
              "24"
            ]
          },
          "metadata": {},
          "execution_count": 30
        }
      ]
    },
    {
      "cell_type": "markdown",
      "source": [
        "## **thuc hanh 2: Viết hàm đệ quy tính dãy số Fibonacci.**"
      ],
      "metadata": {
        "id": "r9pBzybqdgpB"
      }
    },
    {
      "cell_type": "code",
      "source": [
        "def fibo(n): \n",
        " if n == 0: \n",
        "  return 0 \n",
        " if n == 1: \n",
        "  return 1 \n",
        " return fibo(n-1) + fibo(n-2)"
      ],
      "metadata": {
        "id": "hdfqt7xwdk5u"
      },
      "execution_count": null,
      "outputs": []
    },
    {
      "cell_type": "code",
      "source": [
        "fibo(4) "
      ],
      "metadata": {
        "colab": {
          "base_uri": "https://localhost:8080/"
        },
        "id": "PdhLbwZ-dobG",
        "outputId": "e533c562-9e0d-46d7-e646-30414b10324e"
      },
      "execution_count": null,
      "outputs": [
        {
          "output_type": "execute_result",
          "data": {
            "text/plain": [
              "3"
            ]
          },
          "metadata": {},
          "execution_count": 32
        }
      ]
    },
    {
      "cell_type": "code",
      "source": [
        "fibo(5) "
      ],
      "metadata": {
        "colab": {
          "base_uri": "https://localhost:8080/"
        },
        "id": "g3mm-XjVdpzH",
        "outputId": "6116b4a3-f67a-4d6d-d794-586c9b45fb63"
      },
      "execution_count": null,
      "outputs": [
        {
          "output_type": "execute_result",
          "data": {
            "text/plain": [
              "5"
            ]
          },
          "metadata": {},
          "execution_count": 33
        }
      ]
    },
    {
      "cell_type": "code",
      "source": [
        "fibo(6) "
      ],
      "metadata": {
        "colab": {
          "base_uri": "https://localhost:8080/"
        },
        "id": "9ceAlYcVdqVO",
        "outputId": "9dabf240-9962-477b-da0b-129d55f62fd8"
      },
      "execution_count": null,
      "outputs": [
        {
          "output_type": "execute_result",
          "data": {
            "text/plain": [
              "8"
            ]
          },
          "metadata": {},
          "execution_count": 34
        }
      ]
    },
    {
      "cell_type": "markdown",
      "source": [
        "## **thuc hanh 3: Chứng minh dãy có giới hạn và tìm giới hạn của dãy.**"
      ],
      "metadata": {
        "id": "IWMmPXPNdyLy"
      }
    },
    {
      "cell_type": "code",
      "source": [
        "def an_exp_an(n): \n",
        " if n == 1: \n",
        "  return 1.0/2 \n",
        " else: \n",
        "  return an_exp_an(n-1)**an_exp_an(n-1)"
      ],
      "metadata": {
        "id": "wmCjk60gd3rw"
      },
      "execution_count": null,
      "outputs": []
    },
    {
      "cell_type": "code",
      "source": [
        "an_exp_an(1) "
      ],
      "metadata": {
        "colab": {
          "base_uri": "https://localhost:8080/"
        },
        "id": "KiNYHlpHeCsX",
        "outputId": "8eccf3c1-a246-4aab-ac1b-43b4c508f3c8"
      },
      "execution_count": null,
      "outputs": [
        {
          "output_type": "execute_result",
          "data": {
            "text/plain": [
              "0.5"
            ]
          },
          "metadata": {},
          "execution_count": 36
        }
      ]
    },
    {
      "cell_type": "code",
      "source": [
        "an_exp_an(2) "
      ],
      "metadata": {
        "colab": {
          "base_uri": "https://localhost:8080/"
        },
        "id": "hvpuPHq4eE6C",
        "outputId": "88629ac8-0bae-4ec8-f90c-eb61a68dade6"
      },
      "execution_count": null,
      "outputs": [
        {
          "output_type": "execute_result",
          "data": {
            "text/plain": [
              "0.7071067811865476"
            ]
          },
          "metadata": {},
          "execution_count": 37
        }
      ]
    },
    {
      "cell_type": "code",
      "source": [
        "an_exp_an(3) "
      ],
      "metadata": {
        "colab": {
          "base_uri": "https://localhost:8080/"
        },
        "id": "iR92fJqQeFQk",
        "outputId": "77194db6-502e-41b6-acc5-f3b094c86d20"
      },
      "execution_count": null,
      "outputs": [
        {
          "output_type": "execute_result",
          "data": {
            "text/plain": [
              "0.7826540273556803"
            ]
          },
          "metadata": {},
          "execution_count": 38
        }
      ]
    },
    {
      "cell_type": "code",
      "source": [
        "an_exp_an(4) "
      ],
      "metadata": {
        "colab": {
          "base_uri": "https://localhost:8080/"
        },
        "id": "mMsv82U5eFZt",
        "outputId": "d54623ad-5e58-4808-fd76-cffd9714f594"
      },
      "execution_count": null,
      "outputs": [
        {
          "output_type": "execute_result",
          "data": {
            "text/plain": [
              "0.8254713306050621"
            ]
          },
          "metadata": {},
          "execution_count": 39
        }
      ]
    },
    {
      "cell_type": "code",
      "source": [
        "an_exp_an(5) "
      ],
      "metadata": {
        "colab": {
          "base_uri": "https://localhost:8080/"
        },
        "id": "w36-Dpn5eFnE",
        "outputId": "2c92f079-8017-4567-d559-0384b73680e4"
      },
      "execution_count": null,
      "outputs": [
        {
          "output_type": "execute_result",
          "data": {
            "text/plain": [
              "0.8535714578150946"
            ]
          },
          "metadata": {},
          "execution_count": 40
        }
      ]
    },
    {
      "cell_type": "code",
      "source": [
        "an_exp_an(10) "
      ],
      "metadata": {
        "colab": {
          "base_uri": "https://localhost:8080/"
        },
        "id": "MHGAhgCmeF1X",
        "outputId": "0fddbfd2-499b-43b0-b1f2-b62b6fed1fc5"
      },
      "execution_count": null,
      "outputs": [
        {
          "output_type": "execute_result",
          "data": {
            "text/plain": [
              "0.9176411981636667"
            ]
          },
          "metadata": {},
          "execution_count": 41
        }
      ]
    },
    {
      "cell_type": "markdown",
      "source": [
        "## **thuc hanh 4: Chứng minh dãy có giới hạn và tìm giới hạn của dãy.**"
      ],
      "metadata": {
        "id": "mCIjmGIYeSDp"
      }
    },
    {
      "cell_type": "code",
      "source": [
        "def bai4(n): \n",
        " if n==1: \n",
        "  return 4 \n",
        " else: \n",
        "  return 5.0/(6-bai4(n-1))"
      ],
      "metadata": {
        "id": "MMuAshdAeVjG"
      },
      "execution_count": null,
      "outputs": []
    },
    {
      "cell_type": "code",
      "source": [
        "bai4(5)"
      ],
      "metadata": {
        "colab": {
          "base_uri": "https://localhost:8080/"
        },
        "id": "zS5Oo0ayebef",
        "outputId": "c6c96ccf-9026-4453-8a74-585c823b224b"
      },
      "execution_count": null,
      "outputs": [
        {
          "output_type": "execute_result",
          "data": {
            "text/plain": [
              "1.019108280254777"
            ]
          },
          "metadata": {},
          "execution_count": 43
        }
      ]
    },
    {
      "cell_type": "code",
      "source": [
        "bai4(6)"
      ],
      "metadata": {
        "colab": {
          "base_uri": "https://localhost:8080/"
        },
        "id": "18F5dQUdebtf",
        "outputId": "84af2cc6-b317-4b53-8bab-68f61628f4eb"
      },
      "execution_count": null,
      "outputs": [
        {
          "output_type": "execute_result",
          "data": {
            "text/plain": [
              "1.0038363171355498"
            ]
          },
          "metadata": {},
          "execution_count": 44
        }
      ]
    },
    {
      "cell_type": "code",
      "source": [
        "bai4(7)"
      ],
      "metadata": {
        "colab": {
          "base_uri": "https://localhost:8080/"
        },
        "id": "OWZ0DJaneb76",
        "outputId": "c87a5cc6-138e-4711-9c01-a225e2d3b958"
      },
      "execution_count": null,
      "outputs": [
        {
          "output_type": "execute_result",
          "data": {
            "text/plain": [
              "1.000767852572306"
            ]
          },
          "metadata": {},
          "execution_count": 45
        }
      ]
    },
    {
      "cell_type": "code",
      "source": [
        "bai4(10)"
      ],
      "metadata": {
        "colab": {
          "base_uri": "https://localhost:8080/"
        },
        "id": "5f4VZav5ecIC",
        "outputId": "b500c7ba-c22a-4d4a-cc25-47934708138d"
      },
      "execution_count": null,
      "outputs": [
        {
          "output_type": "execute_result",
          "data": {
            "text/plain": [
              "1.0000061439905628"
            ]
          },
          "metadata": {},
          "execution_count": 46
        }
      ]
    },
    {
      "cell_type": "code",
      "source": [
        "bai4(100)"
      ],
      "metadata": {
        "colab": {
          "base_uri": "https://localhost:8080/"
        },
        "id": "8B97r_rSecUT",
        "outputId": "be9eb205-3566-470a-af92-988788ee567c"
      },
      "execution_count": null,
      "outputs": [
        {
          "output_type": "execute_result",
          "data": {
            "text/plain": [
              "1.0"
            ]
          },
          "metadata": {},
          "execution_count": 47
        }
      ]
    },
    {
      "cell_type": "markdown",
      "source": [
        "**Các kết quả trên để nhận định đây là dãy tăng hay giảm? GIẢM**"
      ],
      "metadata": {
        "id": "LOLoCREjeqRf"
      }
    },
    {
      "cell_type": "markdown",
      "source": [
        "## **thuc hanh 5: Xét giới hạn của dãy An=Fn+1/Fn biết dãy Fibonacci được định nghĩa như sau:**"
      ],
      "metadata": {
        "id": "8LUb6Ndwetjr"
      }
    },
    {
      "cell_type": "code",
      "source": [
        " def tisoFibo(n): \n",
        "  if n==1: \n",
        "   return 1 \n",
        "  else: \n",
        "   return 1.0 + 1.0/tisoFibo(n-1)"
      ],
      "metadata": {
        "id": "7oM-01C9e9Pt"
      },
      "execution_count": null,
      "outputs": []
    },
    {
      "cell_type": "code",
      "source": [
        "for i in range(1, 11): \n",
        " print (i, tisoFibo(i)) "
      ],
      "metadata": {
        "colab": {
          "base_uri": "https://localhost:8080/"
        },
        "id": "pkkgH2kmfCcB",
        "outputId": "c759e524-36fb-46cc-edfe-f8e6ef800e5a"
      },
      "execution_count": null,
      "outputs": [
        {
          "output_type": "stream",
          "name": "stdout",
          "text": [
            "1 1\n",
            "2 2.0\n",
            "3 1.5\n",
            "4 1.6666666666666665\n",
            "5 1.6\n",
            "6 1.625\n",
            "7 1.6153846153846154\n",
            "8 1.619047619047619\n",
            "9 1.6176470588235294\n",
            "10 1.6181818181818182\n"
          ]
        }
      ]
    },
    {
      "cell_type": "markdown",
      "source": [
        "**Nhận xét gì về 10 số hạng đầu tiên? Dãy đơn điệu hay không đơn điệu? KHÔNG ĐƠN ĐIỆU**"
      ],
      "metadata": {
        "id": "OHn4lgD4fGwp"
      }
    },
    {
      "cell_type": "code",
      "source": [
        "import sympy\n",
        "from sympy import Derivative, Symbol, sympify\n",
        "def grad_ascent (x0,ham_flx,x):\n",
        "  epsilon= 1e-6\n",
        "  step_size=1e-4\n",
        "  x_old=x0\n",
        "  x_new=x_old +step_size*ham_flx.subs({x:x_old}).evalf()\n",
        "  while abs(x_old-x_new)>epsilon:\n",
        "    x_old=x_new\n",
        "    x_new=x_old+step_size*ham_flx.subs({x:x_old}).evalf\n",
        "    return x_new\n",
        "\n",
        "if __name__ =='__main__':\n",
        "  f=input('Nhap ham 1 bien (f): ')\n",
        "  var=input('Nhap ten bien tuong ung (x): ')\n",
        "  var0= float(input('Nhap gia tri khoi dau cua bien x: '))\n",
        "\n",
        "  try:\n",
        "    f=sympify(f)\n",
        "  except:\n",
        "    print('Ham nhap khong hop le!')\n",
        "  else:\n",
        "    var=Symbol(var)\n",
        "    d=Derivative(f,var).doit()\n",
        "    var_max=grad_ascent(var0,d,var)\n",
        "    print('{0}:{1}'.format(var.name,var_max))\n",
        "    print('Maximum value:{0}'.format(f.subs({var:var_max})))    "
      ],
      "metadata": {
        "colab": {
          "base_uri": "https://localhost:8080/"
        },
        "id": "AYo9JnGZfrCh",
        "outputId": "8d5c5fc6-8bc1-440c-e092-e9f2bb9bb42b"
      },
      "execution_count": null,
      "outputs": [
        {
          "output_type": "stream",
          "name": "stdout",
          "text": [
            "Nhap ham 1 bien (f): 1e-6\n",
            "Nhap ten bien tuong ung (x): theta\n",
            "Nhap gia tri khoi dau cua bien x: 0.001\n",
            "theta:None\n",
            "Maximum value:0.00000100000000000000\n"
          ]
        }
      ]
    },
    {
      "cell_type": "markdown",
      "source": [
        "### **Thử nghiệm 1:**"
      ],
      "metadata": {
        "id": "0EVqKjj-g_U5"
      }
    },
    {
      "cell_type": "code",
      "source": [
        "#Nhap ham 1 bien (f): cos(t) \n",
        "#Nhap ten bien tuong ung (x): t \n",
        "#Nhap gia tri khoi dau cho bien x: 0.01\n",
        "import sympy\n",
        "from sympy import Derivative, Symbol, sympify\n",
        "def grad_ascent (x0,ham_flx,x):\n",
        "  epsilon= 1e-6\n",
        "  step_size=1e-4\n",
        "  x_old=x0\n",
        "  x_new=x_old +step_size*ham_flx.subs({x:x_old}).evalf()\n",
        "  while abs(x_old-x_new)>epsilon:\n",
        "    x_old=x_new\n",
        "    x_new=x_old+step_size*ham_flx.subs({x:x_old}).evalf\n",
        "    return x_new\n",
        "\n",
        "if __name__ =='__main__':\n",
        "  f=input('Nhap ham 1 bien (f): ')\n",
        "  var=input('Nhap ten bien tuong ung (x): ')\n",
        "  var0= float(input('Nhap gia tri khoi dau cua bien x: '))\n",
        "\n",
        "  try:\n",
        "    f=sympify(f)\n",
        "  except:\n",
        "    print('Ham nhap khong hop le!')\n",
        "  else:\n",
        "    var=Symbol(var)\n",
        "    d=Derivative(f,var).doit()\n",
        "    var_max=grad_ascent(var0,d,var)\n",
        "    print('{0}:{1}'.format(var.name,var_max))\n",
        "    print('Maximum value:{0}'.format(f.subs({var:var_max})))   "
      ],
      "metadata": {
        "colab": {
          "base_uri": "https://localhost:8080/"
        },
        "id": "c0j4-8D3gX6n",
        "outputId": "b51e6b67-1434-4eef-cbbc-4aa9bc56c302"
      },
      "execution_count": null,
      "outputs": [
        {
          "output_type": "stream",
          "name": "stdout",
          "text": [
            "Nhap ham 1 bien (f): cos(t)\n",
            "Nhap ten bien tuong ung (x): t\n",
            "Nhap gia tri khoi dau cua bien x: 0.01\n",
            "t:None\n",
            "Maximum value:cos(t)\n"
          ]
        }
      ]
    },
    {
      "cell_type": "markdown",
      "source": [
        "### **Thử nghiệm 2:**"
      ],
      "metadata": {
        "id": "ZLtt1FAGhGhR"
      }
    },
    {
      "cell_type": "code",
      "source": [
        "#Nhap ham 1 bien (f): cos(t)+p \n",
        "#Nhap ten bien tuong ung (x): t \n",
        "#Nhap gia tri khoi dau cho bien x: 0.01\n",
        "import sympy\n",
        "from sympy import Derivative, Symbol, sympify\n",
        "def grad_ascent (x0,ham_flx,x):\n",
        "  epsilon= 1e-6\n",
        "  step_size=1e-4\n",
        "  x_old=x0\n",
        "  x_new=x_old +step_size*ham_flx.subs({x:x_old}).evalf()\n",
        "  while abs(x_old-x_new)>epsilon:\n",
        "    x_old=x_new\n",
        "    x_new=x_old+step_size*ham_flx.subs({x:x_old}).evalf\n",
        "    return x_new\n",
        "\n",
        "if __name__ =='__main__':\n",
        "  f=input('Nhap ham 1 bien (f): ')\n",
        "  var=input('Nhap ten bien tuong ung (x): ')\n",
        "  var0= float(input('Nhap gia tri khoi dau cua bien x: '))\n",
        "\n",
        "  try:\n",
        "    f=sympify(f)\n",
        "  except:\n",
        "    print('Ham nhap khong hop le!')\n",
        "  else:\n",
        "    var=Symbol(var)\n",
        "    d=Derivative(f,var).doit()\n",
        "    var_max=grad_ascent(var0,d,var)\n",
        "    print('{0}:{1}'.format(var.name,var_max))\n",
        "    print('Maximum value:{0}'.format(f.subs({var:var_max})))   "
      ],
      "metadata": {
        "colab": {
          "base_uri": "https://localhost:8080/"
        },
        "id": "pAjtMF4WhIZv",
        "outputId": "48da21ff-a399-4acf-f07a-b507834298e5"
      },
      "execution_count": null,
      "outputs": [
        {
          "output_type": "stream",
          "name": "stdout",
          "text": [
            "Nhap ham 1 bien (f): cos(t) + p\n",
            "Nhap ten bien tuong ung (x): t\n",
            "Nhap gia tri khoi dau cua bien x: 0.01\n",
            "t:None\n",
            "Maximum value:p + cos(t)\n"
          ]
        }
      ]
    },
    {
      "cell_type": "markdown",
      "source": [
        "## **Vai trò của kích thước bước nhảy (step_size) và Epsilon**"
      ],
      "metadata": {
        "id": "XfLSYsI5kb3n"
      }
    },
    {
      "cell_type": "code",
      "source": [
        "from sympy import Derivative, Symbol, sympify \n",
        "def grad_ascent(x0, ham_f1x, x): \n",
        " from sympy import solve, E \n",
        " if not solve(ham_f1x): \n",
        "   print('Khong the tiep tuc, phuong trinh {0}=0 vo nghiem'.format(ham_f1x)) \n",
        "   return \n",
        " # như đoạn mã cũ \n",
        " epsilon = 1e-6 \n",
        " step_size = 1e-4 \n",
        " x_old = x0 \n",
        " x_new = x_old + step_size*ham_f1x.subs({x:x_old}).evalf() \n",
        " while abs(x_old - x_new) > epsilon: \n",
        "  x_old = x_new \n",
        "  x_new = x_old + step_size*ham_f1x.subs({x:x_old}).evalf() \n",
        " \n",
        " return x_new \n",
        "if __name__ == '__main__': \n",
        " f = input('Nhap ham 1 bien (f): ') \n",
        " var = input('Nhap ten bien tuong ung (x): ')  \n",
        " var0 = float(input('Nhap gia tri khoi dau cho bien x: ')) \n",
        " \n",
        " try: \n",
        "  f = sympify(f) # kiem tra ham \n",
        " except SympifyError: \n",
        "  print('Ham nhap khong hop le!') \n",
        " else: \n",
        "  var = Symbol(var) \n",
        "  d = Derivative(f, var).doit() \n",
        "  var_max = grad_ascent(var0, d, var) \n",
        " # thêm lệnh if (nằm trong khối lệnh else) để kiểm tra giá trị var_max trước khi kết luận: \n",
        "  if var_max: \n",
        "   print('{0}: {1}'.format(var.name, var_max)) \n",
        "   print('Maximum value: {0}'.format(f.subs({var:var_max})))"
      ],
      "metadata": {
        "colab": {
          "base_uri": "https://localhost:8080/"
        },
        "id": "L9QzT8Mukd1M",
        "outputId": "066e46e5-3c33-4c4f-b5cc-eb5eb5ac3714"
      },
      "execution_count": null,
      "outputs": [
        {
          "output_type": "stream",
          "name": "stdout",
          "text": [
            "Nhap ham 1 bien (f): E**x\n",
            "Nhap ten bien tuong ung (x): x\n",
            "Nhap gia tri khoi dau cho bien x: 0.1\n",
            "Khong the tiep tuc, phuong trinh exp(x)=0 vo nghiem\n"
          ]
        }
      ]
    },
    {
      "cell_type": "markdown",
      "source": [
        "### **Thử nghiệm với các hàm e^x và logx**\n",
        "- logx:\n",
        "\"Khong the tiep tuc, phuong trinh 1/x vo nghiem\"\n",
        "- E^x\n",
        "\"Khong the tiep tuc, phuong trinh exp(x)=0 vo nghiem\""
      ],
      "metadata": {
        "id": "ztb068a_lH9L"
      }
    }
  ]
}