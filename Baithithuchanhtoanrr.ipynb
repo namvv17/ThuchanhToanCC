{
  "nbformat": 4,
  "nbformat_minor": 0,
  "metadata": {
    "colab": {
      "name": "Baithithuchanhtoanrr",
      "provenance": [],
      "authorship_tag": "ABX9TyMNHav+TTN796FHETT101Q9",
      "include_colab_link": true
    },
    "kernelspec": {
      "name": "python3",
      "display_name": "Python 3"
    },
    "language_info": {
      "name": "python"
    }
  },
  "cells": [
    {
      "cell_type": "markdown",
      "metadata": {
        "id": "view-in-github",
        "colab_type": "text"
      },
      "source": [
        "<a href=\"https://colab.research.google.com/github/namvv17/ThuchanhToanCC/blob/main/Baithithuchanhtoanrr.ipynb\" target=\"_parent\"><img src=\"https://colab.research.google.com/assets/colab-badge.svg\" alt=\"Open In Colab\"/></a>"
      ]
    },
    {
      "cell_type": "markdown",
      "source": [
        "**Bài 1:a**"
      ],
      "metadata": {
        "id": "n-RUU9PJHwcH"
      }
    },
    {
      "cell_type": "code",
      "execution_count": 2,
      "metadata": {
        "id": "kDoyQ7OqBuSF"
      },
      "outputs": [],
      "source": [
        "import random"
      ]
    },
    {
      "cell_type": "code",
      "source": [
        "n = random.randint(100,200)\n",
        "print(n)"
      ],
      "metadata": {
        "colab": {
          "base_uri": "https://localhost:8080/"
        },
        "id": "O1QNEP3UHjmY",
        "outputId": "7ea937fb-75d4-4698-e433-78f5a527eff2"
      },
      "execution_count": 15,
      "outputs": [
        {
          "output_type": "stream",
          "name": "stdout",
          "text": [
            "110\n"
          ]
        }
      ]
    },
    {
      "cell_type": "markdown",
      "source": [
        "**B**"
      ],
      "metadata": {
        "id": "aeMQ5Ct-ICg_"
      }
    },
    {
      "cell_type": "code",
      "source": [
        "import matplotlib.pyplot as plt\n",
        "import numpy.random as rnd\n",
        "from matplotlib.patches import Ellipse\n",
        "from scipy import rand \n",
        "NUM = n\n",
        "# xy: center of ellis, w: duong kinh ngang, h: chieu cao, angle: goc xoay\n",
        "ells = [Ellipse (xy = rnd.rand(2)* 10, width= rnd.rand(),\n",
        "                 height= rnd.rand(), angle= rnd.rand()* 360)\n",
        "        for i in range (NUM)]\n",
        "\n",
        "fig = plt.figure(0)\n",
        "# tao ra 1 luoi gom co 1 dong, 1 cot, va vi tri hien tai la o 1\n",
        "ax = fig.add_subplot(111, aspect = 'equal')\n",
        "for e in ells:\n",
        "  ax.add_artist(e)\n",
        "  e.set_clip_box(ax.bbox)\n",
        "  e.set_alpha(rnd.rand())\n",
        "  e.set_facecolor('black')\n",
        "\n",
        "ax.set_xlim(0, 20)    \n",
        "ax.set_ylim(0, 15)  \n",
        "plt.show()"
      ],
      "metadata": {
        "colab": {
          "base_uri": "https://localhost:8080/",
          "height": 265
        },
        "id": "GVAHPw0NH1S3",
        "outputId": "0f5be576-8085-4718-fde7-a6e8340d63df"
      },
      "execution_count": 16,
      "outputs": [
        {
          "output_type": "display_data",
          "data": {
            "text/plain": [
              "<Figure size 432x288 with 1 Axes>"
            ],
            "image/png": "[encoded data removed]"
          },
          "metadata": {
            "needs_background": "light"
          }
        }
      ]
    },
    {
      "cell_type": "markdown",
      "source": [
        "bai 2:a"
      ],
      "metadata": {
        "id": "VA0TKlGELALH"
      }
    },
    {
      "cell_type": "code",
      "source": [
        "tong = 0\n",
        "n = 0\n",
        "\n",
        "print(\"Hãy nhập vào số n: \")\n",
        "n = int(input())\n",
        "\n",
        "for i in range(1, n + 1) :\n",
        "    tong += i ** 2\n",
        "\n",
        "print(\"Tổng số là: \", tong)"
      ],
      "metadata": {
        "colab": {
          "base_uri": "https://localhost:8080/"
        },
        "id": "Uv2s1N1PIE45",
        "outputId": "c8f0b33c-54fa-4244-e12b-47c740fa79a6"
      },
      "execution_count": 17,
      "outputs": [
        {
          "output_type": "stream",
          "name": "stdout",
          "text": [
            "Hãy nhập vào số n: \n",
            "4\n",
            "Tổng số là:  30\n"
          ]
        }
      ]
    },
    {
      "cell_type": "code",
      "source": [
        "#2b\n",
        "\n",
        "s = 0\n",
        "n = 1\n",
        " \n",
        " \n",
        "# Nhập dữ liệu\n",
        "print(\"hãy nhập vào số n: \")\n",
        "n = int(input())\n",
        " \n",
        "# Tính \n",
        "\n",
        "    \n",
        "\n",
        "s=(1/6)*n*(n+1)*(2*n+1)\n",
        "\n",
        "# In kết quả\n",
        "print (\"Tổng là: \", s)"
      ],
      "metadata": {
        "colab": {
          "base_uri": "https://localhost:8080/"
        },
        "id": "wgTxuRUEN4se",
        "outputId": "44ef2633-0d05-406c-cbc0-156e3586a851"
      },
      "execution_count": 19,
      "outputs": [
        {
          "output_type": "stream",
          "name": "stdout",
          "text": [
            "hãy nhập vào số n: \n",
            "2\n",
            "Tổng là:  5.0\n"
          ]
        }
      ]
    },
    {
      "cell_type": "markdown",
      "source": [
        "#2c"
      ],
      "metadata": {
        "id": "ZprQltinSEWy"
      }
    },
    {
      "cell_type": "code",
      "source": [
        "def tong(n):\n",
        " bat_dau = datetime.now() # Ghi nhận thời điểm bắt đầu\n",
        " ketqua = 0\n",
        " for i in range(n+1):\n",
        "  ketqua = ketqua + i\n",
        " thoi_gian = str(milisec_passed(bat_dau)) # Tính toán thời gian trôi qua\n",
        " print(thoi_gian)\n",
        " return ketqua\n",
        "tong(1000^2)"
      ],
      "metadata": {
        "colab": {
          "base_uri": "https://localhost:8080/"
        },
        "id": "R7k3e6BdSA6y",
        "outputId": "b53943d9-e53d-4a28-98e6-fc5c21e1d004"
      },
      "execution_count": 22,
      "outputs": [
        {
          "output_type": "stream",
          "name": "stdout",
          "text": [
            "Thoi gian da troi qua: 0mili giay\n"
          ]
        },
        {
          "output_type": "execute_result",
          "data": {
            "text/plain": [
              "502503"
            ]
          },
          "metadata": {},
          "execution_count": 22
        }
      ]
    },
    {
      "cell_type": "markdown",
      "source": [
        "**Bài 3**"
      ],
      "metadata": {
        "id": "cmSxt0I-TVoC"
      }
    },
    {
      "cell_type": "code",
      "source": [
        "import itertools\n",
        "from itertools import permutations\n",
        "import operator\n",
        "def tinhgiaithua(n):\n",
        "    giai_thua = 1;\n",
        "    if (n == 0 or n == 1):\n",
        "        return giai_thua;\n",
        "    else:\n",
        "        for i in range(2, n + 1):\n",
        "            giai_thua = giai_thua * i;\n",
        "        return giai_thua;\n",
        "socachchon=tinhgiaithua(10)/(tinhgiaithua(3)*tinhgiaithua(7))\n",
        "Hovaten='NguyễnThanhBình LêPhươngÁnh NguyễnNgọcMinh TrầnTháiSơn VõMinhTâm NguyễnNgọcHoa LýThanhPhương NguyễnYếnNgọc LêHồngÁnh TrầnBìnhLâm'.split()\n",
        "chon3ban = list(itertools.combinations(Hovaten, 3))\n",
        "print('số cách chọn:',socachchon)\n",
        "print(chon3ban)"
      ],
      "metadata": {
        "colab": {
          "base_uri": "https://localhost:8080/"
        },
        "id": "SI-A1tGWTXjl",
        "outputId": "a507dead-6d12-4ece-ef33-1740b4414c17"
      },
      "execution_count": 25,
      "outputs": [
        {
          "output_type": "stream",
          "name": "stdout",
          "text": [
            "số cách chọn: 120.0\n",
            "[('NguyễnThanhBình', 'LêPhươngÁnh', 'NguyễnNgọcMinh'), ('NguyễnThanhBình', 'LêPhươngÁnh', 'TrầnTháiSơn'), ('NguyễnThanhBình', 'LêPhươngÁnh', 'VõMinhTâm'), ('NguyễnThanhBình', 'LêPhươngÁnh', 'NguyễnNgọcHoa'), ('NguyễnThanhBình', 'LêPhươngÁnh', 'LýThanhPhương'), ('NguyễnThanhBình', 'LêPhươngÁnh', 'NguyễnYếnNgọc'), ('NguyễnThanhBình', 'LêPhươngÁnh', 'LêHồngÁnh'), ('NguyễnThanhBình', 'LêPhươngÁnh', 'TrầnBìnhLâm'), ('NguyễnThanhBình', 'NguyễnNgọcMinh', 'TrầnTháiSơn'), ('NguyễnThanhBình', 'NguyễnNgọcMinh', 'VõMinhTâm'), ('NguyễnThanhBình', 'NguyễnNgọcMinh', 'NguyễnNgọcHoa'), ('NguyễnThanhBình', 'NguyễnNgọcMinh', 'LýThanhPhương'), ('NguyễnThanhBình', 'NguyễnNgọcMinh', 'NguyễnYếnNgọc'), ('NguyễnThanhBình', 'NguyễnNgọcMinh', 'LêHồngÁnh'), ('NguyễnThanhBình', 'NguyễnNgọcMinh', 'TrầnBìnhLâm'), ('NguyễnThanhBình', 'TrầnTháiSơn', 'VõMinhTâm'), ('NguyễnThanhBình', 'TrầnTháiSơn', 'NguyễnNgọcHoa'), ('NguyễnThanhBình', 'TrầnTháiSơn', 'LýThanhPhương'), ('NguyễnThanhBình', 'TrầnTháiSơn', 'NguyễnYếnNgọc'), ('NguyễnThanhBình', 'TrầnTháiSơn', 'LêHồngÁnh'), ('NguyễnThanhBình', 'TrầnTháiSơn', 'TrầnBìnhLâm'), ('NguyễnThanhBình', 'VõMinhTâm', 'NguyễnNgọcHoa'), ('NguyễnThanhBình', 'VõMinhTâm', 'LýThanhPhương'), ('NguyễnThanhBình', 'VõMinhTâm', 'NguyễnYếnNgọc'), ('NguyễnThanhBình', 'VõMinhTâm', 'LêHồngÁnh'), ('NguyễnThanhBình', 'VõMinhTâm', 'TrầnBìnhLâm'), ('NguyễnThanhBình', 'NguyễnNgọcHoa', 'LýThanhPhương'), ('NguyễnThanhBình', 'NguyễnNgọcHoa', 'NguyễnYếnNgọc'), ('NguyễnThanhBình', 'NguyễnNgọcHoa', 'LêHồngÁnh'), ('NguyễnThanhBình', 'NguyễnNgọcHoa', 'TrầnBìnhLâm'), ('NguyễnThanhBình', 'LýThanhPhương', 'NguyễnYếnNgọc'), ('NguyễnThanhBình', 'LýThanhPhương', 'LêHồngÁnh'), ('NguyễnThanhBình', 'LýThanhPhương', 'TrầnBìnhLâm'), ('NguyễnThanhBình', 'NguyễnYếnNgọc', 'LêHồngÁnh'), ('NguyễnThanhBình', 'NguyễnYếnNgọc', 'TrầnBìnhLâm'), ('NguyễnThanhBình', 'LêHồngÁnh', 'TrầnBìnhLâm'), ('LêPhươngÁnh', 'NguyễnNgọcMinh', 'TrầnTháiSơn'), ('LêPhươngÁnh', 'NguyễnNgọcMinh', 'VõMinhTâm'), ('LêPhươngÁnh', 'NguyễnNgọcMinh', 'NguyễnNgọcHoa'), ('LêPhươngÁnh', 'NguyễnNgọcMinh', 'LýThanhPhương'), ('LêPhươngÁnh', 'NguyễnNgọcMinh', 'NguyễnYếnNgọc'), ('LêPhươngÁnh', 'NguyễnNgọcMinh', 'LêHồngÁnh'), ('LêPhươngÁnh', 'NguyễnNgọcMinh', 'TrầnBìnhLâm'), ('LêPhươngÁnh', 'TrầnTháiSơn', 'VõMinhTâm'), ('LêPhươngÁnh', 'TrầnTháiSơn', 'NguyễnNgọcHoa'), ('LêPhươngÁnh', 'TrầnTháiSơn', 'LýThanhPhương'), ('LêPhươngÁnh', 'TrầnTháiSơn', 'NguyễnYếnNgọc'), ('LêPhươngÁnh', 'TrầnTháiSơn', 'LêHồngÁnh'), ('LêPhươngÁnh', 'TrầnTháiSơn', 'TrầnBìnhLâm'), ('LêPhươngÁnh', 'VõMinhTâm', 'NguyễnNgọcHoa'), ('LêPhươngÁnh', 'VõMinhTâm', 'LýThanhPhương'), ('LêPhươngÁnh', 'VõMinhTâm', 'NguyễnYếnNgọc'), ('LêPhươngÁnh', 'VõMinhTâm', 'LêHồngÁnh'), ('LêPhươngÁnh', 'VõMinhTâm', 'TrầnBìnhLâm'), ('LêPhươngÁnh', 'NguyễnNgọcHoa', 'LýThanhPhương'), ('LêPhươngÁnh', 'NguyễnNgọcHoa', 'NguyễnYếnNgọc'), ('LêPhươngÁnh', 'NguyễnNgọcHoa', 'LêHồngÁnh'), ('LêPhươngÁnh', 'NguyễnNgọcHoa', 'TrầnBìnhLâm'), ('LêPhươngÁnh', 'LýThanhPhương', 'NguyễnYếnNgọc'), ('LêPhươngÁnh', 'LýThanhPhương', 'LêHồngÁnh'), ('LêPhươngÁnh', 'LýThanhPhương', 'TrầnBìnhLâm'), ('LêPhươngÁnh', 'NguyễnYếnNgọc', 'LêHồngÁnh'), ('LêPhươngÁnh', 'NguyễnYếnNgọc', 'TrầnBìnhLâm'), ('LêPhươngÁnh', 'LêHồngÁnh', 'TrầnBìnhLâm'), ('NguyễnNgọcMinh', 'TrầnTháiSơn', 'VõMinhTâm'), ('NguyễnNgọcMinh', 'TrầnTháiSơn', 'NguyễnNgọcHoa'), ('NguyễnNgọcMinh', 'TrầnTháiSơn', 'LýThanhPhương'), ('NguyễnNgọcMinh', 'TrầnTháiSơn', 'NguyễnYếnNgọc'), ('NguyễnNgọcMinh', 'TrầnTháiSơn', 'LêHồngÁnh'), ('NguyễnNgọcMinh', 'TrầnTháiSơn', 'TrầnBìnhLâm'), ('NguyễnNgọcMinh', 'VõMinhTâm', 'NguyễnNgọcHoa'), ('NguyễnNgọcMinh', 'VõMinhTâm', 'LýThanhPhương'), ('NguyễnNgọcMinh', 'VõMinhTâm', 'NguyễnYếnNgọc'), ('NguyễnNgọcMinh', 'VõMinhTâm', 'LêHồngÁnh'), ('NguyễnNgọcMinh', 'VõMinhTâm', 'TrầnBìnhLâm'), ('NguyễnNgọcMinh', 'NguyễnNgọcHoa', 'LýThanhPhương'), ('NguyễnNgọcMinh', 'NguyễnNgọcHoa', 'NguyễnYếnNgọc'), ('NguyễnNgọcMinh', 'NguyễnNgọcHoa', 'LêHồngÁnh'), ('NguyễnNgọcMinh', 'NguyễnNgọcHoa', 'TrầnBìnhLâm'), ('NguyễnNgọcMinh', 'LýThanhPhương', 'NguyễnYếnNgọc'), ('NguyễnNgọcMinh', 'LýThanhPhương', 'LêHồngÁnh'), ('NguyễnNgọcMinh', 'LýThanhPhương', 'TrầnBìnhLâm'), ('NguyễnNgọcMinh', 'NguyễnYếnNgọc', 'LêHồngÁnh'), ('NguyễnNgọcMinh', 'NguyễnYếnNgọc', 'TrầnBìnhLâm'), ('NguyễnNgọcMinh', 'LêHồngÁnh', 'TrầnBìnhLâm'), ('TrầnTháiSơn', 'VõMinhTâm', 'NguyễnNgọcHoa'), ('TrầnTháiSơn', 'VõMinhTâm', 'LýThanhPhương'), ('TrầnTháiSơn', 'VõMinhTâm', 'NguyễnYếnNgọc'), ('TrầnTháiSơn', 'VõMinhTâm', 'LêHồngÁnh'), ('TrầnTháiSơn', 'VõMinhTâm', 'TrầnBìnhLâm'), ('TrầnTháiSơn', 'NguyễnNgọcHoa', 'LýThanhPhương'), ('TrầnTháiSơn', 'NguyễnNgọcHoa', 'NguyễnYếnNgọc'), ('TrầnTháiSơn', 'NguyễnNgọcHoa', 'LêHồngÁnh'), ('TrầnTháiSơn', 'NguyễnNgọcHoa', 'TrầnBìnhLâm'), ('TrầnTháiSơn', 'LýThanhPhương', 'NguyễnYếnNgọc'), ('TrầnTháiSơn', 'LýThanhPhương', 'LêHồngÁnh'), ('TrầnTháiSơn', 'LýThanhPhương', 'TrầnBìnhLâm'), ('TrầnTháiSơn', 'NguyễnYếnNgọc', 'LêHồngÁnh'), ('TrầnTháiSơn', 'NguyễnYếnNgọc', 'TrầnBìnhLâm'), ('TrầnTháiSơn', 'LêHồngÁnh', 'TrầnBìnhLâm'), ('VõMinhTâm', 'NguyễnNgọcHoa', 'LýThanhPhương'), ('VõMinhTâm', 'NguyễnNgọcHoa', 'NguyễnYếnNgọc'), ('VõMinhTâm', 'NguyễnNgọcHoa', 'LêHồngÁnh'), ('VõMinhTâm', 'NguyễnNgọcHoa', 'TrầnBìnhLâm'), ('VõMinhTâm', 'LýThanhPhương', 'NguyễnYếnNgọc'), ('VõMinhTâm', 'LýThanhPhương', 'LêHồngÁnh'), ('VõMinhTâm', 'LýThanhPhương', 'TrầnBìnhLâm'), ('VõMinhTâm', 'NguyễnYếnNgọc', 'LêHồngÁnh'), ('VõMinhTâm', 'NguyễnYếnNgọc', 'TrầnBìnhLâm'), ('VõMinhTâm', 'LêHồngÁnh', 'TrầnBìnhLâm'), ('NguyễnNgọcHoa', 'LýThanhPhương', 'NguyễnYếnNgọc'), ('NguyễnNgọcHoa', 'LýThanhPhương', 'LêHồngÁnh'), ('NguyễnNgọcHoa', 'LýThanhPhương', 'TrầnBìnhLâm'), ('NguyễnNgọcHoa', 'NguyễnYếnNgọc', 'LêHồngÁnh'), ('NguyễnNgọcHoa', 'NguyễnYếnNgọc', 'TrầnBìnhLâm'), ('NguyễnNgọcHoa', 'LêHồngÁnh', 'TrầnBìnhLâm'), ('LýThanhPhương', 'NguyễnYếnNgọc', 'LêHồngÁnh'), ('LýThanhPhương', 'NguyễnYếnNgọc', 'TrầnBìnhLâm'), ('LýThanhPhương', 'LêHồngÁnh', 'TrầnBìnhLâm'), ('NguyễnYếnNgọc', 'LêHồngÁnh', 'TrầnBìnhLâm')]\n"
          ]
        }
      ]
    },
    {
      "cell_type": "markdown",
      "source": [
        "Bài 4:"
      ],
      "metadata": {
        "id": "LilBUY0lS9Yx"
      }
    },
    {
      "cell_type": "code",
      "source": [
        "so_mon = 8\n",
        "ten_mon = ['TMDT', 'LT CSDL', \"HTTT\", \"Mang Nang cao\", \"Do hoa MT\", 'Big Data', \"CSDL Phan Tan\", \"IOT\"]\n",
        "tin_chi = [3, 4, 3, 3, 2, 4, 4, 3]\n",
        "tin_chi_phai_dat = 10\n",
        "\n",
        "def lietke_chuoithapphan(n):\n",
        "    danh_sach = []\n",
        "    for i in range (0, 2**n):\n",
        "        gia_tri = i\n",
        "        chuoi_np = bin(gia_tri).replace('0b', '')\n",
        "        while (len(chuoi_np)) < n:\n",
        "            chuoi_np = '0' + chuoi_np\n",
        "        danh_sach.append(chuoi_np)\n",
        "        print(chuoi_np)\n",
        "    return danh_sach\n",
        "def kiemtra_chuoi(chuoi_dang_chon, danhsach, gioihan):\n",
        "    tong_tinchi = 0\n",
        "    for j in range(0, len(chuoi_dang_chon)):\n",
        "        if chuoi_dang_chon[j] == '1':\n",
        "            tong_tinchi = tong_tinchi + tin_chi[j]\n",
        "    ketqua = True\n",
        "    if tong_tinchi > gioihan:\n",
        "        ketqua = False\n",
        "    return ketqua, tong_tinchi\n",
        "def tim_phuongan(tinchi, gioihan):\n",
        "    search = []\n",
        "    cac_phuongan = lietke_chuoithapphan(len(tinchi))\n",
        "    for i in range (len(cac_phuongan)):\n",
        "        dc_kg, diem = kiemtra_chuoi(cac_phuongan[i], tinchi, gioihan)\n",
        "        if dc_kg == True:\n",
        "            print(cac_phuongan[i], dc_kg, diem)\n",
        "            search.append(cac_phuongan[i])\n",
        "    return search \n",
        "\n",
        "tim_phuongan(tin_chi, tin_chi_phai_dat)"
      ],
      "metadata": {
        "colab": {
          "base_uri": "https://localhost:8080/"
        },
        "id": "jXwhOjIwS2dR",
        "outputId": "826fcca8-6818-426c-b507-97c98f739428"
      },
      "execution_count": 23,
      "outputs": [
        {
          "output_type": "stream",
          "name": "stdout",
          "text": [
            "00000000\n",
            "00000001\n",
            "00000010\n",
            "00000011\n",
            "00000100\n",
            "00000101\n",
            "00000110\n",
            "00000111\n",
            "00001000\n",
            "00001001\n",
            "00001010\n",
            "00001011\n",
            "00001100\n",
            "00001101\n",
            "00001110\n",
            "00001111\n",
            "00010000\n",
            "00010001\n",
            "00010010\n",
            "00010011\n",
            "00010100\n",
            "00010101\n",
            "00010110\n",
            "00010111\n",
            "00011000\n",
            "00011001\n",
            "00011010\n",
            "00011011\n",
            "00011100\n",
            "00011101\n",
            "00011110\n",
            "00011111\n",
            "00100000\n",
            "00100001\n",
            "00100010\n",
            "00100011\n",
            "00100100\n",
            "00100101\n",
            "00100110\n",
            "00100111\n",
            "00101000\n",
            "00101001\n",
            "00101010\n",
            "00101011\n",
            "00101100\n",
            "00101101\n",
            "00101110\n",
            "00101111\n",
            "00110000\n",
            "00110001\n",
            "00110010\n",
            "00110011\n",
            "00110100\n",
            "00110101\n",
            "00110110\n",
            "00110111\n",
            "00111000\n",
            "00111001\n",
            "00111010\n",
            "00111011\n",
            "00111100\n",
            "00111101\n",
            "00111110\n",
            "00111111\n",
            "01000000\n",
            "01000001\n",
            "01000010\n",
            "01000011\n",
            "01000100\n",
            "01000101\n",
            "01000110\n",
            "01000111\n",
            "01001000\n",
            "01001001\n",
            "01001010\n",
            "01001011\n",
            "01001100\n",
            "01001101\n",
            "01001110\n",
            "01001111\n",
            "01010000\n",
            "01010001\n",
            "01010010\n",
            "01010011\n",
            "01010100\n",
            "01010101\n",
            "01010110\n",
            "01010111\n",
            "01011000\n",
            "01011001\n",
            "01011010\n",
            "01011011\n",
            "01011100\n",
            "01011101\n",
            "01011110\n",
            "01011111\n",
            "01100000\n",
            "01100001\n",
            "01100010\n",
            "01100011\n",
            "01100100\n",
            "01100101\n",
            "01100110\n",
            "01100111\n",
            "01101000\n",
            "01101001\n",
            "01101010\n",
            "01101011\n",
            "01101100\n",
            "01101101\n",
            "01101110\n",
            "01101111\n",
            "01110000\n",
            "01110001\n",
            "01110010\n",
            "01110011\n",
            "01110100\n",
            "01110101\n",
            "01110110\n",
            "01110111\n",
            "01111000\n",
            "01111001\n",
            "01111010\n",
            "01111011\n",
            "01111100\n",
            "01111101\n",
            "01111110\n",
            "01111111\n",
            "10000000\n",
            "10000001\n",
            "10000010\n",
            "10000011\n",
            "10000100\n",
            "10000101\n",
            "10000110\n",
            "10000111\n",
            "10001000\n",
            "10001001\n",
            "10001010\n",
            "10001011\n",
            "10001100\n",
            "10001101\n",
            "10001110\n",
            "10001111\n",
            "10010000\n",
            "10010001\n",
            "10010010\n",
            "10010011\n",
            "10010100\n",
            "10010101\n",
            "10010110\n",
            "10010111\n",
            "10011000\n",
            "10011001\n",
            "10011010\n",
            "10011011\n",
            "10011100\n",
            "10011101\n",
            "10011110\n",
            "10011111\n",
            "10100000\n",
            "10100001\n",
            "10100010\n",
            "10100011\n",
            "10100100\n",
            "10100101\n",
            "10100110\n",
            "10100111\n",
            "10101000\n",
            "10101001\n",
            "10101010\n",
            "10101011\n",
            "10101100\n",
            "10101101\n",
            "10101110\n",
            "10101111\n",
            "10110000\n",
            "10110001\n",
            "10110010\n",
            "10110011\n",
            "10110100\n",
            "10110101\n",
            "10110110\n",
            "10110111\n",
            "10111000\n",
            "10111001\n",
            "10111010\n",
            "10111011\n",
            "10111100\n",
            "10111101\n",
            "10111110\n",
            "10111111\n",
            "11000000\n",
            "11000001\n",
            "11000010\n",
            "11000011\n",
            "11000100\n",
            "11000101\n",
            "11000110\n",
            "11000111\n",
            "11001000\n",
            "11001001\n",
            "11001010\n",
            "11001011\n",
            "11001100\n",
            "11001101\n",
            "11001110\n",
            "11001111\n",
            "11010000\n",
            "11010001\n",
            "11010010\n",
            "11010011\n",
            "11010100\n",
            "11010101\n",
            "11010110\n",
            "11010111\n",
            "11011000\n",
            "11011001\n",
            "11011010\n",
            "11011011\n",
            "11011100\n",
            "11011101\n",
            "11011110\n",
            "11011111\n",
            "11100000\n",
            "11100001\n",
            "11100010\n",
            "11100011\n",
            "11100100\n",
            "11100101\n",
            "11100110\n",
            "11100111\n",
            "11101000\n",
            "11101001\n",
            "11101010\n",
            "11101011\n",
            "11101100\n",
            "11101101\n",
            "11101110\n",
            "11101111\n",
            "11110000\n",
            "11110001\n",
            "11110010\n",
            "11110011\n",
            "11110100\n",
            "11110101\n",
            "11110110\n",
            "11110111\n",
            "11111000\n",
            "11111001\n",
            "11111010\n",
            "11111011\n",
            "11111100\n",
            "11111101\n",
            "11111110\n",
            "11111111\n",
            "00000000 True 0\n",
            "00000001 True 3\n",
            "00000010 True 4\n",
            "00000011 True 7\n",
            "00000100 True 4\n",
            "00000101 True 7\n",
            "00000110 True 8\n",
            "00001000 True 2\n",
            "00001001 True 5\n",
            "00001010 True 6\n",
            "00001011 True 9\n",
            "00001100 True 6\n",
            "00001101 True 9\n",
            "00001110 True 10\n",
            "00010000 True 3\n",
            "00010001 True 6\n",
            "00010010 True 7\n",
            "00010011 True 10\n",
            "00010100 True 7\n",
            "00010101 True 10\n",
            "00011000 True 5\n",
            "00011001 True 8\n",
            "00011010 True 9\n",
            "00011100 True 9\n",
            "00100000 True 3\n",
            "00100001 True 6\n",
            "00100010 True 7\n",
            "00100011 True 10\n",
            "00100100 True 7\n",
            "00100101 True 10\n",
            "00101000 True 5\n",
            "00101001 True 8\n",
            "00101010 True 9\n",
            "00101100 True 9\n",
            "00110000 True 6\n",
            "00110001 True 9\n",
            "00110010 True 10\n",
            "00110100 True 10\n",
            "00111000 True 8\n",
            "01000000 True 4\n",
            "01000001 True 7\n",
            "01000010 True 8\n",
            "01000100 True 8\n",
            "01001000 True 6\n",
            "01001001 True 9\n",
            "01001010 True 10\n",
            "01001100 True 10\n",
            "01010000 True 7\n",
            "01010001 True 10\n",
            "01011000 True 9\n",
            "01100000 True 7\n",
            "01100001 True 10\n",
            "01101000 True 9\n",
            "01110000 True 10\n",
            "10000000 True 3\n",
            "10000001 True 6\n",
            "10000010 True 7\n",
            "10000011 True 10\n",
            "10000100 True 7\n",
            "10000101 True 10\n",
            "10001000 True 5\n",
            "10001001 True 8\n",
            "10001010 True 9\n",
            "10001100 True 9\n",
            "10010000 True 6\n",
            "10010001 True 9\n",
            "10010010 True 10\n",
            "10010100 True 10\n",
            "10011000 True 8\n",
            "10100000 True 6\n",
            "10100001 True 9\n",
            "10100010 True 10\n",
            "10100100 True 10\n",
            "10101000 True 8\n",
            "10110000 True 9\n",
            "11000000 True 7\n",
            "11000001 True 10\n",
            "11001000 True 9\n",
            "11010000 True 10\n",
            "11100000 True 10\n"
          ]
        },
        {
          "output_type": "execute_result",
          "data": {
            "text/plain": [
              "['00000000',\n",
              " '00000001',\n",
              " '00000010',\n",
              " '00000011',\n",
              " '00000100',\n",
              " '00000101',\n",
              " '00000110',\n",
              " '00001000',\n",
              " '00001001',\n",
              " '00001010',\n",
              " '00001011',\n",
              " '00001100',\n",
              " '00001101',\n",
              " '00001110',\n",
              " '00010000',\n",
              " '00010001',\n",
              " '00010010',\n",
              " '00010011',\n",
              " '00010100',\n",
              " '00010101',\n",
              " '00011000',\n",
              " '00011001',\n",
              " '00011010',\n",
              " '00011100',\n",
              " '00100000',\n",
              " '00100001',\n",
              " '00100010',\n",
              " '00100011',\n",
              " '00100100',\n",
              " '00100101',\n",
              " '00101000',\n",
              " '00101001',\n",
              " '00101010',\n",
              " '00101100',\n",
              " '00110000',\n",
              " '00110001',\n",
              " '00110010',\n",
              " '00110100',\n",
              " '00111000',\n",
              " '01000000',\n",
              " '01000001',\n",
              " '01000010',\n",
              " '01000100',\n",
              " '01001000',\n",
              " '01001001',\n",
              " '01001010',\n",
              " '01001100',\n",
              " '01010000',\n",
              " '01010001',\n",
              " '01011000',\n",
              " '01100000',\n",
              " '01100001',\n",
              " '01101000',\n",
              " '01110000',\n",
              " '10000000',\n",
              " '10000001',\n",
              " '10000010',\n",
              " '10000011',\n",
              " '10000100',\n",
              " '10000101',\n",
              " '10001000',\n",
              " '10001001',\n",
              " '10001010',\n",
              " '10001100',\n",
              " '10010000',\n",
              " '10010001',\n",
              " '10010010',\n",
              " '10010100',\n",
              " '10011000',\n",
              " '10100000',\n",
              " '10100001',\n",
              " '10100010',\n",
              " '10100100',\n",
              " '10101000',\n",
              " '10110000',\n",
              " '11000000',\n",
              " '11000001',\n",
              " '11001000',\n",
              " '11010000',\n",
              " '11100000']"
            ]
          },
          "metadata": {},
          "execution_count": 23
        }
      ]
    }
  ]
}