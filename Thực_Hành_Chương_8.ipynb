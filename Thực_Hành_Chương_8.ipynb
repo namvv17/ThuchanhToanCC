{
  "nbformat": 4,
  "nbformat_minor": 0,
  "metadata": {
    "colab": {
      "name": "Thực Hành Chương 8",
      "provenance": [],
      "authorship_tag": "ABX9TyPBKCpDnXwp4lXYlEKEkOer",
      "include_colab_link": true
    },
    "kernelspec": {
      "name": "python3",
      "display_name": "Python 3"
    },
    "language_info": {
      "name": "python"
    }
  },
  "cells": [
    {
      "cell_type": "markdown",
      "metadata": {
        "id": "view-in-github",
        "colab_type": "text"
      },
      "source": [
        "<a href=\"https://colab.research.google.com/github/namvv17/ThuchanhToanCC/blob/main/Th%E1%BB%B1c_H%C3%A0nh_Ch%C6%B0%C6%A1ng_8.ipynb\" target=\"_parent\"><img src=\"https://colab.research.google.com/assets/colab-badge.svg\" alt=\"Open In Colab\"/></a>"
      ]
    },
    {
      "cell_type": "markdown",
      "source": [
        "**CHƯƠNG 8: HÀM NHIỀU BIẾN VÀ ỨNG DỤNG (tiếp theo) **"
      ],
      "metadata": {
        "id": "qHUX2UwdWVLz"
      }
    },
    {
      "cell_type": "markdown",
      "source": [
        "**Thực hành 1a: Minh họa về sử dụng Tuple **"
      ],
      "metadata": {
        "id": "SRvX0H6OWddM"
      }
    },
    {
      "cell_type": "code",
      "source": [
        "y = (3, 5, 7) \n",
        "y"
      ],
      "metadata": {
        "colab": {
          "base_uri": "https://localhost:8080/"
        },
        "id": "h1jOsHXXWcY7",
        "outputId": "7bb5370a-d3ba-4e64-e37b-87e6ba8f2b09"
      },
      "execution_count": 1,
      "outputs": [
        {
          "output_type": "execute_result",
          "data": {
            "text/plain": [
              "(3, 5, 7)"
            ]
          },
          "metadata": {},
          "execution_count": 1
        }
      ]
    },
    {
      "cell_type": "code",
      "execution_count": 3,
      "metadata": {
        "colab": {
          "base_uri": "https://localhost:8080/"
        },
        "id": "vhZ9-1jPWQNp",
        "outputId": "568ebc87-79c8-4ebe-8e52-25e43d0b3d69"
      },
      "outputs": [
        {
          "output_type": "execute_result",
          "data": {
            "text/plain": [
              "5"
            ]
          },
          "metadata": {},
          "execution_count": 3
        }
      ],
      "source": [
        "y[1] "
      ]
    },
    {
      "cell_type": "code",
      "source": [
        "y[1]= 4 "
      ],
      "metadata": {
        "colab": {
          "base_uri": "https://localhost:8080/",
          "height": 166
        },
        "id": "ji3uXk1HWtu6",
        "outputId": "110c77ef-9ce9-40ef-de53-019ac6f49c73"
      },
      "execution_count": 6,
      "outputs": [
        {
          "output_type": "error",
          "ename": "TypeError",
          "evalue": "ignored",
          "traceback": [
            "\u001b[0;31m---------------------------------------------------------------------------\u001b[0m",
            "\u001b[0;31mTypeError\u001b[0m                                 Traceback (most recent call last)",
            "\u001b[0;32m<ipython-input-6-a6b061d47c40>\u001b[0m in \u001b[0;36m<module>\u001b[0;34m()\u001b[0m\n\u001b[0;32m----> 1\u001b[0;31m \u001b[0my\u001b[0m\u001b[0;34m[\u001b[0m\u001b[0;36m1\u001b[0m\u001b[0;34m]\u001b[0m\u001b[0;34m=\u001b[0m \u001b[0;36m4\u001b[0m\u001b[0;34m\u001b[0m\u001b[0;34m\u001b[0m\u001b[0m\n\u001b[0m",
            "\u001b[0;31mTypeError\u001b[0m: 'tuple' object does not support item assignment"
          ]
        }
      ]
    },
    {
      "cell_type": "markdown",
      "source": [
        "**Thực hành 1b: **"
      ],
      "metadata": {
        "id": "veXI1ARJW55h"
      }
    },
    {
      "cell_type": "code",
      "source": [
        "from __future__ import division\n",
        "10/3"
      ],
      "metadata": {
        "colab": {
          "base_uri": "https://localhost:8080/"
        },
        "id": "xrdG2D68W8ar",
        "outputId": "589bbbfc-7fab-413b-9ecf-1cabcd864aa1"
      },
      "execution_count": 11,
      "outputs": [
        {
          "output_type": "execute_result",
          "data": {
            "text/plain": [
              "3.3333333333333335"
            ]
          },
          "metadata": {},
          "execution_count": 11
        }
      ]
    },
    {
      "cell_type": "markdown",
      "source": [
        "**Thực hành 1c: **"
      ],
      "metadata": {
        "id": "Q_BxBYkcXVai"
      }
    },
    {
      "cell_type": "code",
      "source": [
        "import sympy\n",
        "from sympy import Symbol\n",
        "x = Symbol('x')\n",
        "y = x+1\n",
        "y.subs(x,14)"
      ],
      "metadata": {
        "colab": {
          "base_uri": "https://localhost:8080/",
          "height": 37
        },
        "id": "pAGgRHR0XZII",
        "outputId": "73b036f2-358a-47ed-a946-b66e83a3fa61"
      },
      "execution_count": 12,
      "outputs": [
        {
          "output_type": "execute_result",
          "data": {
            "text/plain": [
              "15"
            ],
            "text/latex": "$\\displaystyle 15$"
          },
          "metadata": {},
          "execution_count": 12
        }
      ]
    },
    {
      "cell_type": "markdown",
      "source": [
        "**Thực hành 1d: **"
      ],
      "metadata": {
        "id": "_nEAhzjrX6t2"
      }
    },
    {
      "cell_type": "code",
      "source": [
        "import sympy\n",
        "from sympy import Symbol\n",
        "x = Symbol('x')\n",
        "from sympy import pi\n",
        "z = pi-18*x\n",
        "z.subs(x,y)"
      ],
      "metadata": {
        "colab": {
          "base_uri": "https://localhost:8080/",
          "height": 38
        },
        "id": "u_ZeTcQDX7zZ",
        "outputId": "bfd2b5a2-1494-413a-9e34-64527b74e1a0"
      },
      "execution_count": 14,
      "outputs": [
        {
          "output_type": "execute_result",
          "data": {
            "text/plain": [
              "-18*x - 18 + pi"
            ],
            "text/latex": "$\\displaystyle - 18 x - 18 + \\pi$"
          },
          "metadata": {},
          "execution_count": 14
        }
      ]
    },
    {
      "cell_type": "code",
      "source": [
        "t = Symbol('t')\n",
        "z= pi-18*x\n",
        "z.subs(x,t)"
      ],
      "metadata": {
        "colab": {
          "base_uri": "https://localhost:8080/",
          "height": 38
        },
        "id": "K_Z7ERf-YjKx",
        "outputId": "60b95ab6-bc62-4feb-ae6a-f02a18151a87"
      },
      "execution_count": 15,
      "outputs": [
        {
          "output_type": "execute_result",
          "data": {
            "text/plain": [
              "pi - 18*t"
            ],
            "text/latex": "$\\displaystyle \\pi - 18 t$"
          },
          "metadata": {},
          "execution_count": 15
        }
      ]
    },
    {
      "cell_type": "markdown",
      "source": [
        "**Thực hành 2: **"
      ],
      "metadata": {
        "id": "ERL620SxY1gj"
      }
    },
    {
      "cell_type": "code",
      "source": [
        "from sympy import solve, sin\n",
        "x = Symbol('x')\n",
        "y = Symbol('y')\n",
        "solve(x-1,x)       # phương trình x = 1"
      ],
      "metadata": {
        "colab": {
          "base_uri": "https://localhost:8080/"
        },
        "id": "rZjUIrItY1FQ",
        "outputId": "cb7df22a-88f0-4e45-88ea-724c290981e4"
      },
      "execution_count": 16,
      "outputs": [
        {
          "output_type": "execute_result",
          "data": {
            "text/plain": [
              "[1]"
            ]
          },
          "metadata": {},
          "execution_count": 16
        }
      ]
    },
    {
      "cell_type": "code",
      "source": [
        "solve(x**2-1,x)                    # phuong trinh x^2= 1"
      ],
      "metadata": {
        "colab": {
          "base_uri": "https://localhost:8080/"
        },
        "id": "MMyESbtSZTyV",
        "outputId": "37f7d164-efd9-44b2-aca9-9a91a96bbc52"
      },
      "execution_count": 17,
      "outputs": [
        {
          "output_type": "execute_result",
          "data": {
            "text/plain": [
              "[-1, 1]"
            ]
          },
          "metadata": {},
          "execution_count": 17
        }
      ]
    },
    {
      "cell_type": "code",
      "source": [
        "solve(x**2+1,x)                   # phuong trinh x^2− 1 = 0"
      ],
      "metadata": {
        "colab": {
          "base_uri": "https://localhost:8080/"
        },
        "id": "0MpLNBPBZaIv",
        "outputId": "6a61c7db-73ae-4a2e-fdf6-563aae3a7cb3"
      },
      "execution_count": 18,
      "outputs": [
        {
          "output_type": "execute_result",
          "data": {
            "text/plain": [
              "[-I, I]"
            ]
          },
          "metadata": {},
          "execution_count": 18
        }
      ]
    },
    {
      "cell_type": "code",
      "source": [
        "solve(sin(x),x)                    # phuong trinh sin(x)= 0"
      ],
      "metadata": {
        "colab": {
          "base_uri": "https://localhost:8080/"
        },
        "id": "S5cBacqJZggW",
        "outputId": "6f1f8010-3a6e-42b2-e12b-f748b07e7120"
      },
      "execution_count": 19,
      "outputs": [
        {
          "output_type": "execute_result",
          "data": {
            "text/plain": [
              "[0, pi]"
            ]
          },
          "metadata": {},
          "execution_count": 19
        }
      ]
    },
    {
      "cell_type": "markdown",
      "source": [
        "**Thực hành 3: Thử nghiệm solveset**"
      ],
      "metadata": {
        "id": "JFLS9ppsZqhR"
      }
    },
    {
      "cell_type": "code",
      "source": [
        "from sympy import solveset\n",
        "solveset(sin(x),x)"
      ],
      "metadata": {
        "colab": {
          "base_uri": "https://localhost:8080/",
          "height": 38
        },
        "id": "F_IhJEkFZrr7",
        "outputId": "a8b01106-991a-4216-9e78-d90d2aaae01f"
      },
      "execution_count": 20,
      "outputs": [
        {
          "output_type": "execute_result",
          "data": {
            "text/plain": [
              "Union(ImageSet(Lambda(_n, 2*_n*pi + pi), Integers), ImageSet(Lambda(_n, 2*_n*pi), Integers))"
            ],
            "text/latex": "$\\displaystyle \\left\\{2 n \\pi\\; |\\; n \\in \\mathbb{Z}\\right\\} \\cup \\left\\{2 n \\pi + \\pi\\; |\\; n \\in \\mathbb{Z}\\right\\}$"
          },
          "metadata": {},
          "execution_count": 20
        }
      ]
    },
    {
      "cell_type": "markdown",
      "source": [
        "**Thực hành 4: **"
      ],
      "metadata": {
        "id": "923vAVW0aQJ7"
      }
    },
    {
      "cell_type": "code",
      "source": [
        "from sympy import solveset, S\n",
        "from sympy.abc import x,y,z\n",
        "solveset(x**2+1,x) # mac dinh mien la so phuc: domain = S.Complexes"
      ],
      "metadata": {
        "colab": {
          "base_uri": "https://localhost:8080/",
          "height": 38
        },
        "id": "waO72KtdaRgD",
        "outputId": "f4400c99-024b-418a-e1f5-cdb8f7086d38"
      },
      "execution_count": 23,
      "outputs": [
        {
          "output_type": "execute_result",
          "data": {
            "text/plain": [
              "FiniteSet(I, -I)"
            ],
            "text/latex": "$\\displaystyle \\left\\{- i, i\\right\\}$"
          },
          "metadata": {},
          "execution_count": 23
        }
      ]
    },
    {
      "cell_type": "code",
      "source": [
        "solveset(x**2+1,x, domain=S.Reals)# mien so phuc"
      ],
      "metadata": {
        "colab": {
          "base_uri": "https://localhost:8080/",
          "height": 37
        },
        "id": "g-ICU9rda81N",
        "outputId": "b3013ef5-62a7-434e-be75-ead504b24368"
      },
      "execution_count": 24,
      "outputs": [
        {
          "output_type": "execute_result",
          "data": {
            "text/plain": [
              "EmptySet"
            ],
            "text/latex": "$\\displaystyle \\emptyset$"
          },
          "metadata": {},
          "execution_count": 24
        }
      ]
    },
    {
      "cell_type": "markdown",
      "source": [
        "**Thực hành 5: **"
      ],
      "metadata": {
        "id": "T0N_8QrGbNsx"
      }
    },
    {
      "cell_type": "code",
      "source": [
        "from sympy import solveset, S\n",
        "from sympy.abc import x,y,z\n",
        "from sympy import E\n",
        "solveset(e**x-1, x) # mac dinh la mien so phuc: domain = S.Complexes "
      ],
      "metadata": {
        "colab": {
          "base_uri": "https://localhost:8080/",
          "height": 200
        },
        "id": "TRVqupidbP5l",
        "outputId": "dd128a8a-4555-4b8d-84ce-24268b39ff91"
      },
      "execution_count": 29,
      "outputs": [
        {
          "output_type": "error",
          "ename": "NameError",
          "evalue": "ignored",
          "traceback": [
            "\u001b[0;31m---------------------------------------------------------------------------\u001b[0m",
            "\u001b[0;31mNameError\u001b[0m                                 Traceback (most recent call last)",
            "\u001b[0;32m<ipython-input-29-b0078503f795>\u001b[0m in \u001b[0;36m<module>\u001b[0;34m()\u001b[0m\n\u001b[1;32m      2\u001b[0m \u001b[0;32mfrom\u001b[0m \u001b[0msympy\u001b[0m\u001b[0;34m.\u001b[0m\u001b[0mabc\u001b[0m \u001b[0;32mimport\u001b[0m \u001b[0mx\u001b[0m\u001b[0;34m,\u001b[0m\u001b[0my\u001b[0m\u001b[0;34m,\u001b[0m\u001b[0mz\u001b[0m\u001b[0;34m\u001b[0m\u001b[0;34m\u001b[0m\u001b[0m\n\u001b[1;32m      3\u001b[0m \u001b[0;32mfrom\u001b[0m \u001b[0msympy\u001b[0m \u001b[0;32mimport\u001b[0m \u001b[0mE\u001b[0m\u001b[0;34m\u001b[0m\u001b[0;34m\u001b[0m\u001b[0m\n\u001b[0;32m----> 4\u001b[0;31m \u001b[0msolveset\u001b[0m\u001b[0;34m(\u001b[0m\u001b[0me\u001b[0m\u001b[0;34m**\u001b[0m\u001b[0mx\u001b[0m\u001b[0;34m-\u001b[0m\u001b[0;36m1\u001b[0m\u001b[0;34m,\u001b[0m \u001b[0mx\u001b[0m\u001b[0;34m)\u001b[0m \u001b[0;31m# mac dinh la mien so phuc: domain = S.Complexes\u001b[0m\u001b[0;34m\u001b[0m\u001b[0;34m\u001b[0m\u001b[0m\n\u001b[0m",
            "\u001b[0;31mNameError\u001b[0m: name 'e' is not defined"
          ]
        }
      ]
    },
    {
      "cell_type": "code",
      "source": [
        "solveset(E**x-1, x) # mac dinh la mien so phuc: domain = S.Complexes"
      ],
      "metadata": {
        "colab": {
          "base_uri": "https://localhost:8080/",
          "height": 38
        },
        "id": "x_LSGB-Kb67q",
        "outputId": "3deb6023-c155-4580-c900-a01af4522f0d"
      },
      "execution_count": 30,
      "outputs": [
        {
          "output_type": "execute_result",
          "data": {
            "text/plain": [
              "ImageSet(Lambda(_n, 2*_n*I*pi), Integers)"
            ],
            "text/latex": "$\\displaystyle \\left\\{2 n i \\pi\\; |\\; n \\in \\mathbb{Z}\\right\\}$"
          },
          "metadata": {},
          "execution_count": 30
        }
      ]
    },
    {
      "cell_type": "code",
      "source": [
        "solveset(E**x-1, x, domain = S.Reals) "
      ],
      "metadata": {
        "colab": {
          "base_uri": "https://localhost:8080/",
          "height": 37
        },
        "id": "4M2Np29Qb9vm",
        "outputId": "dee08cde-a9ba-48ca-ea5c-e8adcaa2ebb9"
      },
      "execution_count": 31,
      "outputs": [
        {
          "output_type": "execute_result",
          "data": {
            "text/plain": [
              "FiniteSet(0)"
            ],
            "text/latex": "$\\displaystyle \\left\\{0\\right\\}$"
          },
          "metadata": {},
          "execution_count": 31
        }
      ]
    },
    {
      "cell_type": "markdown",
      "source": [
        "**Thực hành 6**"
      ],
      "metadata": {
        "id": "ejrCc7XgcDcT"
      }
    },
    {
      "cell_type": "code",
      "source": [
        "solveset((sin(x)+x)*(x**2-9), x, domain = S.Reals) "
      ],
      "metadata": {
        "colab": {
          "base_uri": "https://localhost:8080/",
          "height": 38
        },
        "id": "CdThJ9l7cEnO",
        "outputId": "2f93b579-3b31-42c2-dbf8-8a0ad86f2924"
      },
      "execution_count": 32,
      "outputs": [
        {
          "output_type": "execute_result",
          "data": {
            "text/plain": [
              "Union(ConditionSet(x, Eq(x + sin(x), 0), Reals), FiniteSet(-3, 3))"
            ],
            "text/latex": "$\\displaystyle \\left\\{-3, 3\\right\\} \\cup \\left\\{x \\mid x \\in \\mathbb{R} \\wedge x + \\sin{\\left(x \\right)} = 0 \\right\\}$"
          },
          "metadata": {},
          "execution_count": 32
        }
      ]
    },
    {
      "cell_type": "markdown",
      "source": [
        "**Thực hành 7: Một số thực hành khác với Solveset: **"
      ],
      "metadata": {
        "id": "uRLoLF_AcHPa"
      }
    },
    {
      "cell_type": "code",
      "source": [
        "from sympy import exp, S \n",
        "solveset(exp(x) > 1, x, domain = S.Reals) "
      ],
      "metadata": {
        "colab": {
          "base_uri": "https://localhost:8080/",
          "height": 37
        },
        "id": "wjY-QV_ZcJX4",
        "outputId": "0948e4cb-5419-43ee-8005-7e72b757cfce"
      },
      "execution_count": 34,
      "outputs": [
        {
          "output_type": "execute_result",
          "data": {
            "text/plain": [
              "Interval.open(0, oo)"
            ],
            "text/latex": "$\\displaystyle \\left(0, \\infty\\right)$"
          },
          "metadata": {},
          "execution_count": 34
        }
      ]
    },
    {
      "cell_type": "code",
      "source": [
        "solveset(E**x > 1, x, domain = S.Reals)"
      ],
      "metadata": {
        "colab": {
          "base_uri": "https://localhost:8080/",
          "height": 37
        },
        "id": "HhxDxPIAcR0Y",
        "outputId": "9434d2f5-ec7b-4d20-fc7c-3ae923f3ca92"
      },
      "execution_count": 35,
      "outputs": [
        {
          "output_type": "execute_result",
          "data": {
            "text/plain": [
              "Interval.open(0, oo)"
            ],
            "text/latex": "$\\displaystyle \\left(0, \\infty\\right)$"
          },
          "metadata": {},
          "execution_count": 35
        }
      ]
    },
    {
      "cell_type": "code",
      "source": [
        "solveset(E**x > E, x, domain = S.Reals)"
      ],
      "metadata": {
        "colab": {
          "base_uri": "https://localhost:8080/",
          "height": 37
        },
        "id": "d4eo3hl2cTon",
        "outputId": "2b7afdd4-af81-401a-c5af-287a15fd7c4d"
      },
      "execution_count": 37,
      "outputs": [
        {
          "output_type": "execute_result",
          "data": {
            "text/plain": [
              "Interval.open(1, oo)"
            ],
            "text/latex": "$\\displaystyle \\left(1, \\infty\\right)$"
          },
          "metadata": {},
          "execution_count": 37
        }
      ]
    },
    {
      "cell_type": "markdown",
      "source": [
        "**Ghi chú: domain = S.Reals chúng ta có thể sử dụng phương pháp viết tắt như sau: **"
      ],
      "metadata": {
        "id": "PVkO9OR5cZsw"
      }
    },
    {
      "cell_type": "code",
      "source": [
        "R = S.Reals\n",
        "solveset(E**x > E, x, R) "
      ],
      "metadata": {
        "colab": {
          "base_uri": "https://localhost:8080/",
          "height": 37
        },
        "id": "mrsYk3UfccA5",
        "outputId": "7a589041-8a45-4d37-b401-dac46b8ccf3d"
      },
      "execution_count": 38,
      "outputs": [
        {
          "output_type": "execute_result",
          "data": {
            "text/plain": [
              "Interval.open(1, oo)"
            ],
            "text/latex": "$\\displaystyle \\left(1, \\infty\\right)$"
          },
          "metadata": {},
          "execution_count": 38
        }
      ]
    },
    {
      "cell_type": "markdown",
      "source": [
        "**Thực hành 8: **"
      ],
      "metadata": {
        "id": "AQNlqHgkclzK"
      }
    },
    {
      "cell_type": "code",
      "source": [
        "from sympy import Derivative, Symbol, solve\n",
        "x = Symbol('x') \n",
        "y = Symbol('y') \n",
        "z = Symbol('z') \n",
        "f = 4*x*y - 8*x - 5 + z*(x+y-50) "
      ],
      "metadata": {
        "id": "iXgM8H-rcmsh"
      },
      "execution_count": 40,
      "outputs": []
    },
    {
      "cell_type": "markdown",
      "source": [
        "+ Tính các đạo hàm riêng theo các biến x, y và z: "
      ],
      "metadata": {
        "id": "LfeXlYSYdIGm"
      }
    },
    {
      "cell_type": "code",
      "source": [
        " dx = Derivative(f, x).doit() \n",
        " dy = Derivative(f, y).doit() \n",
        " dz = Derivative(f, z).doit() "
      ],
      "metadata": {
        "id": "U9Ja7R5PdJF5"
      },
      "execution_count": 41,
      "outputs": []
    },
    {
      "cell_type": "markdown",
      "source": [
        "**+ Giải hệ phương trình (giải cả 3 phương trình), là hệ phương trình ∇ℒ\",,: **"
      ],
      "metadata": {
        "id": "70lIE3X8h3Xc"
      }
    },
    {
      "cell_type": "code",
      "source": [
        "nghiem = solve([dx, dy, dz], (x,y,z)) \n",
        "print (nghiem)"
      ],
      "metadata": {
        "colab": {
          "base_uri": "https://localhost:8080/"
        },
        "id": "jyMhLdCGh4M7",
        "outputId": "eb3365db-6ea0-4ebc-8d94-987b8e04df11"
      },
      "execution_count": 42,
      "outputs": [
        {
          "output_type": "stream",
          "name": "stdout",
          "text": [
            "{x: 24, y: 26, z: -96}\n"
          ]
        }
      ]
    },
    {
      "cell_type": "markdown",
      "source": [
        "Cuối cùng, thay thế vào công thức tính, ta được số tiền thuê nhân viên (x), số tiền cần để mua nhiên liệu (y) và lợi lợi nhuận (tiền lời) dự kiến của ông chủ mì cay: "
      ],
      "metadata": {
        "id": "oZ91X3EWh83p"
      }
    },
    {
      "cell_type": "code",
      "source": [
        "xx = nghiem[x] \n",
        "yy = nghiem[y] \n",
        "4*xx*yy - 8*xx – 5 "
      ],
      "metadata": {
        "colab": {
          "base_uri": "https://localhost:8080/",
          "height": 131
        },
        "id": "30VHLeWlh_Op",
        "outputId": "eb6f6f5c-7201-4e3c-c438-c9b9a14a5604"
      },
      "execution_count": 45,
      "outputs": [
        {
          "output_type": "error",
          "ename": "SyntaxError",
          "evalue": "ignored",
          "traceback": [
            "\u001b[0;36m  File \u001b[0;32m\"<ipython-input-45-186699733d9f>\"\u001b[0;36m, line \u001b[0;32m3\u001b[0m\n\u001b[0;31m    4*xx*yy - 8*xx – 5\u001b[0m\n\u001b[0m                   ^\u001b[0m\n\u001b[0;31mSyntaxError\u001b[0m\u001b[0;31m:\u001b[0m invalid character in identifier\n"
          ]
        }
      ]
    },
    {
      "cell_type": "code",
      "source": [
        ""
      ],
      "metadata": {
        "id": "YI-7Q6e4iUZ5"
      },
      "execution_count": null,
      "outputs": []
    }
  ]
}