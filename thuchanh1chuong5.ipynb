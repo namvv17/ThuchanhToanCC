{
  "nbformat": 4,
  "nbformat_minor": 0,
  "metadata": {
    "colab": {
      "name": "thuchanh1chuong5",
      "provenance": [],
      "authorship_tag": "ABX9TyNPqZf88mdfO1Fssmum+nJg",
      "include_colab_link": true
    },
    "kernelspec": {
      "name": "python3",
      "display_name": "Python 3"
    },
    "language_info": {
      "name": "python"
    }
  },
  "cells": [
    {
      "cell_type": "markdown",
      "metadata": {
        "id": "view-in-github",
        "colab_type": "text"
      },
      "source": [
        "<a href=\"https://colab.research.google.com/github/namvv17/ThuchanhToanCC/blob/main/thuchanh1chuong5.ipynb\" target=\"_parent\"><img src=\"https://colab.research.google.com/assets/colab-badge.svg\" alt=\"Open In Colab\"/></a>"
      ]
    },
    {
      "cell_type": "code",
      "execution_count": 1,
      "metadata": {
        "id": "YF56Z2f87GDM"
      },
      "outputs": [],
      "source": [
        "James = [True, True, True, True, False, False, False, True]\n",
        "Jonathan =[True, True, True, True, False, False, False, True]\n",
        "ngay_trong_tuan = [\"Thu 2\", \"Thu 3\", \"Thu 4\", \"Thu 5\", \"Thu 6\", \"Thu 7\", \"Chu nhat\",\n",
        "\"Thu 2\"]"
      ]
    },
    {
      "cell_type": "code",
      "source": [
        "for i in range(0,6):\n",
        "  if ((James[i] == True and James[i + 1] == False)\n",
        "    or ((James[i] == False and James[i + 1] == True))):\n",
        "      if ((Jonathan[i] == True and Jonathan[i + 1] == False)\n",
        "        or ((Jonathan[i] == False and Jonathan[i + 1] == True))):\n",
        "          print(ngay_trong_tuan[i])"
      ],
      "metadata": {
        "colab": {
          "base_uri": "https://localhost:8080/"
        },
        "id": "j-BBZMKF7OtZ",
        "outputId": "c6b4615a-f379-43e3-9761-d6fd4fe71d08"
      },
      "execution_count": 2,
      "outputs": [
        {
          "output_type": "stream",
          "name": "stdout",
          "text": [
            "Thu 5\n"
          ]
        }
      ]
    },
    {
      "cell_type": "code",
      "source": [
        "for i in range(0,6):\n",
        "  if ((James[i] and not James[i+1]) and (Jonathan[i] and not Jonathan[i+1])):\n",
        "    print (ngay_trong_tuan[i])"
      ],
      "metadata": {
        "colab": {
          "base_uri": "https://localhost:8080/"
        },
        "id": "hFOxFO0R7Qiv",
        "outputId": "844051fa-ed34-4b7d-ac40-2a798526c4c4"
      },
      "execution_count": 3,
      "outputs": [
        {
          "output_type": "stream",
          "name": "stdout",
          "text": [
            "Thu 5\n"
          ]
        }
      ]
    },
    {
      "cell_type": "code",
      "source": [
        "import random\n",
        "S = random.sample(range(1, 100), 10) # lấy mẫu 10 số tự nhiên trong [1, 99]\n",
        "print (S) "
      ],
      "metadata": {
        "colab": {
          "base_uri": "https://localhost:8080/"
        },
        "id": "LzZ0Vj9g7i2-",
        "outputId": "12dfc0fe-74ed-4909-efe2-b4aad44333bd"
      },
      "execution_count": 4,
      "outputs": [
        {
          "output_type": "stream",
          "name": "stdout",
          "text": [
            "[51, 69, 18, 68, 34, 76, 6, 44, 42, 98]\n"
          ]
        }
      ]
    },
    {
      "cell_type": "code",
      "source": [
        "tS = [] # dãy tS lưu trữ số lượng số nằm ở phía sau Si mà lớn hơn Si, i=0,n-1\n",
        "for i in range(len(S)):\n",
        " tS.append(0)\n",
        "for j in range(i, len(S)):\n",
        " if S[i] < S[j]:\n",
        "   tS[i] = tS[i] + 1 "
      ],
      "metadata": {
        "id": "EQOSsdiL7ouW"
      },
      "execution_count": 10,
      "outputs": []
    },
    {
      "cell_type": "code",
      "source": [
        "print (tS)"
      ],
      "metadata": {
        "colab": {
          "base_uri": "https://localhost:8080/"
        },
        "id": "cCTf3vwG79-I",
        "outputId": "7de26e64-8490-4c72-f6db-eadca5639dc3"
      },
      "execution_count": 11,
      "outputs": [
        {
          "output_type": "stream",
          "name": "stdout",
          "text": [
            "[0, 0, 0, 0, 0, 0, 0, 0, 0, 0]\n"
          ]
        }
      ]
    }
  ]
}