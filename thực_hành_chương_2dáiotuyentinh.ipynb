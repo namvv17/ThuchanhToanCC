{
  "nbformat": 4,
  "nbformat_minor": 0,
  "metadata": {
    "colab": {
      "provenance": [],
      "collapsed_sections": [],
      "authorship_tag": "ABX9TyNTi8GO53AR4zNTsLG0lGUS",
      "include_colab_link": true
    },
    "kernelspec": {
      "name": "python3",
      "display_name": "Python 3"
    },
    "language_info": {
      "name": "python"
    }
  },
  "cells": [
    {
      "cell_type": "markdown",
      "metadata": {
        "id": "view-in-github",
        "colab_type": "text"
      },
      "source": [
        "<a href=\"https://colab.research.google.com/github/namvv17/ThuchanhToanCC/blob/main/th%E1%BB%B1c_h%C3%A0nh_ch%C6%B0%C6%A1ng_2d%C3%A1iotuyentinh.ipynb\" target=\"_parent\"><img src=\"https://colab.research.google.com/assets/colab-badge.svg\" alt=\"Open In Colab\"/></a>"
      ]
    },
    {
      "cell_type": "code",
      "execution_count": 1,
      "metadata": {
        "colab": {
          "base_uri": "https://localhost:8080/"
        },
        "id": "njDLLyXA6a8d",
        "outputId": "475331f5-5333-411d-eb38-beaaec14cad1"
      },
      "outputs": [
        {
          "output_type": "stream",
          "name": "stdout",
          "text": [
            "[ 2.  6. 10.]\n"
          ]
        }
      ],
      "source": [
        "import numpy as np\n",
        "from numpy import *\n",
        "vec1 = np.array([1., 3., 5.])\n",
        "print(vec1 * 2) "
      ]
    },
    {
      "cell_type": "code",
      "source": [
        " print(vec1 /2) "
      ],
      "metadata": {
        "colab": {
          "base_uri": "https://localhost:8080/"
        },
        "id": "RhIXdSfh6nRh",
        "outputId": "307f133e-b85a-40b5-8881-2a64960b292c"
      },
      "execution_count": 3,
      "outputs": [
        {
          "output_type": "stream",
          "name": "stdout",
          "text": [
            "[0.5 1.5 2.5]\n"
          ]
        }
      ]
    },
    {
      "cell_type": "code",
      "source": [
        "print(vec1 + vec1)"
      ],
      "metadata": {
        "colab": {
          "base_uri": "https://localhost:8080/"
        },
        "id": "_xoxzXA_6sCQ",
        "outputId": "9e72f47b-c798-4d8d-e347-8027054297e5"
      },
      "execution_count": 4,
      "outputs": [
        {
          "output_type": "stream",
          "name": "stdout",
          "text": [
            "[ 2.  6. 10.]\n"
          ]
        }
      ]
    },
    {
      "cell_type": "code",
      "source": [
        "vec2 = array([2., 4., 0])\n",
        "print(vec1 + vec2)"
      ],
      "metadata": {
        "colab": {
          "base_uri": "https://localhost:8080/"
        },
        "id": "M8E93G2J67Ef",
        "outputId": "b53c8e9c-9ad0-48ca-9285-070c716c3ff8"
      },
      "execution_count": 9,
      "outputs": [
        {
          "output_type": "stream",
          "name": "stdout",
          "text": [
            "[3. 7. 5.]\n"
          ]
        }
      ]
    },
    {
      "cell_type": "code",
      "source": [
        "vec3 = array([2., 4., 6.])\n",
        "print(vec1 + vec3)"
      ],
      "metadata": {
        "colab": {
          "base_uri": "https://localhost:8080/"
        },
        "id": "8M4LAGi57a89",
        "outputId": "78773e15-957e-42e2-d5f7-33a6ec23a2fe"
      },
      "execution_count": 12,
      "outputs": [
        {
          "output_type": "stream",
          "name": "stdout",
          "text": [
            "[ 3.  7. 11.]\n"
          ]
        }
      ]
    },
    {
      "cell_type": "code",
      "source": [
        "print(vec1 / vec3) "
      ],
      "metadata": {
        "colab": {
          "base_uri": "https://localhost:8080/"
        },
        "id": "XXf_W8547gj0",
        "outputId": "674dff36-3ec5-408a-a543-62dd631b07bc"
      },
      "execution_count": 13,
      "outputs": [
        {
          "output_type": "stream",
          "name": "stdout",
          "text": [
            "[0.5        0.75       0.83333333]\n"
          ]
        }
      ]
    },
    {
      "cell_type": "code",
      "source": [
        "print(vec1 * vec3)"
      ],
      "metadata": {
        "colab": {
          "base_uri": "https://localhost:8080/"
        },
        "id": "FXEfYzTd7gp1",
        "outputId": "014b719b-e283-424e-b7e2-88dbbad182ea"
      },
      "execution_count": 14,
      "outputs": [
        {
          "output_type": "stream",
          "name": "stdout",
          "text": [
            "[ 2. 12. 30.]\n"
          ]
        }
      ]
    },
    {
      "cell_type": "code",
      "source": [
        "print(2* vec1 + 5* vec3)"
      ],
      "metadata": {
        "colab": {
          "base_uri": "https://localhost:8080/"
        },
        "id": "mpDdTZ4s7uM9",
        "outputId": "dd2da760-31a6-44c4-dc29-059ca9879ca3"
      },
      "execution_count": 16,
      "outputs": [
        {
          "output_type": "stream",
          "name": "stdout",
          "text": [
            "[12. 26. 40.]\n"
          ]
        }
      ]
    },
    {
      "cell_type": "markdown",
      "source": [
        "Chương 2:: MA TRẬN VÀ HỆ PHƯƠNG TRÌNH TUYẾN\n",
        "TÍNH \n",
        "1.Dẫn nhập – Một số hàm về xử lý vector với Python **bold text**"
      ],
      "metadata": {
        "id": "DQtT6uUI8ABt"
      }
    },
    {
      "cell_type": "markdown",
      "source": [
        "**Bài 2**"
      ],
      "metadata": {
        "id": "IOSn8LnQD5Sn"
      }
    },
    {
      "cell_type": "code",
      "source": [
        "import numpy as np\n",
        "from scipy import linalg, sparse\n",
        "D = np.mat([ [3,4], [5,6] ])\n",
        "print(D)"
      ],
      "metadata": {
        "colab": {
          "base_uri": "https://localhost:8080/"
        },
        "id": "qOR4SlrT-hKZ",
        "outputId": "424e0d09-5509-4f7e-df00-556d78c64294"
      },
      "execution_count": 38,
      "outputs": [
        {
          "output_type": "stream",
          "name": "stdout",
          "text": [
            "[[3 4]\n",
            " [5 6]]\n"
          ]
        }
      ]
    },
    {
      "cell_type": "code",
      "source": [
        "C = np.mat(np.random.random((5,7)))\n",
        "print(C) "
      ],
      "metadata": {
        "colab": {
          "base_uri": "https://localhost:8080/"
        },
        "id": "0EKihzbX-qoQ",
        "outputId": "1c21046a-2021-4c95-96ce-df81e2c2e58b"
      },
      "execution_count": 42,
      "outputs": [
        {
          "output_type": "stream",
          "name": "stdout",
          "text": [
            "[[0.53790545 0.4208509  0.89538585 0.10449986 0.38491056 0.28822314\n",
            "  0.13484896]\n",
            " [0.87122967 0.69835667 0.51171964 0.30379446 0.38428541 0.35228193\n",
            "  0.96240575]\n",
            " [0.49701034 0.0538976  0.61154165 0.27423072 0.95134594 0.76590974\n",
            "  0.36297638]\n",
            " [0.68621952 0.83942045 0.23058339 0.56242748 0.50101478 0.17039963\n",
            "  0.06785816]\n",
            " [0.37725102 0.5489545  0.46039273 0.06179668 0.72137937 0.54699835\n",
            "  0.38676871]]\n"
          ]
        }
      ]
    },
    {
      "cell_type": "code",
      "source": [
        "A =np.mat(np.random.random((2,2)))\n",
        "print(A) "
      ],
      "metadata": {
        "colab": {
          "base_uri": "https://localhost:8080/"
        },
        "id": "V_V5Vdm3_MZH",
        "outputId": "002c3cfb-4c08-44e4-d61c-c8b2078450a9"
      },
      "execution_count": 43,
      "outputs": [
        {
          "output_type": "stream",
          "name": "stdout",
          "text": [
            "[[0.72449333 0.13697844]\n",
            " [0.0629135  0.93928217]]\n"
          ]
        }
      ]
    },
    {
      "cell_type": "code",
      "source": [
        "b = np.array([(1+5j, 2j, 3j),(4, 5,6)])\n",
        "B = np.asmatrix(b)\n",
        "print(b)\n",
        "print(B) "
      ],
      "metadata": {
        "colab": {
          "base_uri": "https://localhost:8080/"
        },
        "id": "YSsPZMNT_vFN",
        "outputId": "42ae7215-3f39-40ad-e173-46298729913e"
      },
      "execution_count": 46,
      "outputs": [
        {
          "output_type": "stream",
          "name": "stdout",
          "text": [
            "[[1.+5.j 0.+2.j 0.+3.j]\n",
            " [4.+0.j 5.+0.j 6.+0.j]]\n",
            "[[1.+5.j 0.+2.j 0.+3.j]\n",
            " [4.+0.j 5.+0.j 6.+0.j]]\n"
          ]
        }
      ]
    },
    {
      "cell_type": "code",
      "source": [
        "print(A.T)\n",
        "print(A.I) "
      ],
      "metadata": {
        "colab": {
          "base_uri": "https://localhost:8080/"
        },
        "id": "A76-jnLX_5du",
        "outputId": "9f7fbbab-adb7-4f05-f8d9-e77334ff2d9c"
      },
      "execution_count": 47,
      "outputs": [
        {
          "output_type": "stream",
          "name": "stdout",
          "text": [
            "[[0.72449333 0.0629135 ]\n",
            " [0.13697844 0.93928217]]\n",
            "[[ 1.39797874 -0.20387158]\n",
            " [-0.09363718  1.0782982 ]]\n"
          ]
        }
      ]
    },
    {
      "cell_type": "code",
      "source": [
        "linalg.inv(A)\n",
        "M = np.array([[-1,3,2],[0,-2,1],[1,5,-2]])\n",
        "M_lower = np.tril(M)\n",
        "print(M_lower) "
      ],
      "metadata": {
        "colab": {
          "base_uri": "https://localhost:8080/"
        },
        "id": "jtQ7ADL5AIav",
        "outputId": "aa8f18ad-c303-44e2-d758-225c4c3d801f"
      },
      "execution_count": 49,
      "outputs": [
        {
          "output_type": "stream",
          "name": "stdout",
          "text": [
            "[[-1  0  0]\n",
            " [ 0 -2  0]\n",
            " [ 1  5 -2]]\n"
          ]
        }
      ]
    },
    {
      "cell_type": "code",
      "source": [
        "M = np.array([[-1,3,2],[0,-2,1],[1,5,-2]])\n",
        "M_upper = np.triu(M)\n",
        "print(M_upper)"
      ],
      "metadata": {
        "colab": {
          "base_uri": "https://localhost:8080/"
        },
        "id": "U6WtxsukAUnH",
        "outputId": "311cf896-b773-45f7-929b-ef23e4e0d276"
      },
      "execution_count": 50,
      "outputs": [
        {
          "output_type": "stream",
          "name": "stdout",
          "text": [
            "[[-1  3  2]\n",
            " [ 0 -2  1]\n",
            " [ 0  0 -2]]\n"
          ]
        }
      ]
    },
    {
      "cell_type": "code",
      "source": [
        "M = np.array([[-1,3,2],[0,-\n",
        "2,1],[1,5,-2]])\n",
        "v_diag = np.diag(M) #vector đường chéo\n",
        "print (v_diag)\n",
        "M_diag = np.diag(v_diag)\n",
        "print (M_diag)"
      ],
      "metadata": {
        "colab": {
          "base_uri": "https://localhost:8080/"
        },
        "id": "gDfBpaXmAawO",
        "outputId": "2a5c34ed-6257-4c64-c702-bee15c9a4d24"
      },
      "execution_count": 52,
      "outputs": [
        {
          "output_type": "stream",
          "name": "stdout",
          "text": [
            "[-1 -2 -2]\n",
            "[[-1  0  0]\n",
            " [ 0 -2  0]\n",
            " [ 0  0 -2]]\n"
          ]
        }
      ]
    },
    {
      "cell_type": "markdown",
      "source": [
        "**Bài 3**"
      ],
      "metadata": {
        "id": "1Ty8ePHGCeIt"
      }
    },
    {
      "cell_type": "code",
      "source": [
        "import sympy as sp\n",
        "x = sp.Symbol(\"x\")\n",
        "y = sp.Symbol(\"y\")\n",
        "z = sp.Symbol(\"z\")\n",
        "sp.solve([x*x+2-6, y-1-6, x+z-1, 2*x*x-8, z*z+4-5, y-z-8], [x,y,z])"
      ],
      "metadata": {
        "colab": {
          "base_uri": "https://localhost:8080/"
        },
        "id": "wu6czt4UCdVx",
        "outputId": "97539e82-7145-47e1-8bb4-a84c854b00e7"
      },
      "execution_count": 64,
      "outputs": [
        {
          "output_type": "execute_result",
          "data": {
            "text/plain": [
              "[(2, 7, -1)]"
            ]
          },
          "metadata": {},
          "execution_count": 64
        }
      ]
    },
    {
      "cell_type": "markdown",
      "source": [
        "**Bài 4**"
      ],
      "metadata": {
        "id": "Ps59hEpRDYHR"
      }
    },
    {
      "cell_type": "code",
      "source": [
        "import numpy as np\n",
        "A = np.array( [ [1,1], [1,0] ] )\n",
        "b = np.array([1, 0])\n",
        "n = 10 \n",
        "for i in range(n):\n",
        " b = A.dot(b)\n",
        " print(b)"
      ],
      "metadata": {
        "colab": {
          "base_uri": "https://localhost:8080/"
        },
        "id": "K0P5FjXpDZl_",
        "outputId": "45fadfd9-5c1d-4fea-eb60-75141a8f17bf"
      },
      "execution_count": 65,
      "outputs": [
        {
          "output_type": "stream",
          "name": "stdout",
          "text": [
            "[1 1]\n",
            "[2 1]\n",
            "[3 2]\n",
            "[5 3]\n",
            "[8 5]\n",
            "[13  8]\n",
            "[21 13]\n",
            "[34 21]\n",
            "[55 34]\n",
            "[89 55]\n"
          ]
        }
      ]
    },
    {
      "cell_type": "markdown",
      "source": [
        "**5.2. Bài toán ứng dụng 3 – Đếm số lượng xe vào khu vực trung tâm **"
      ],
      "metadata": {
        "id": "C80wpQEyEIcf"
      }
    },
    {
      "cell_type": "code",
      "source": [
        "import sympy as sp\n",
        "from sympy import Symbol\n",
        "x1 = Symbol('x1')\n",
        "x2 = Symbol('x2')\n",
        "x3 = Symbol('x3')\n",
        "x4 = Symbol('x4')\n",
        "from sympy import solve\n",
        "pt1 = x4+610-450-x1\n",
        "pt2 = x1+400-x2-640\n",
        "pt3 = x2+600-x3\n",
        "pt4 = x3-x4-520\n",
        "nghiem = sp.solve((pt1, pt2, pt3, pt4))\n",
        "print(nghiem) "
      ],
      "metadata": {
        "colab": {
          "base_uri": "https://localhost:8080/"
        },
        "id": "wbKHyukfEJsX",
        "outputId": "f5a65760-be66-4c14-bf60-b4eda5c57275"
      },
      "execution_count": 66,
      "outputs": [
        {
          "output_type": "stream",
          "name": "stdout",
          "text": [
            "{x1: x4 + 160, x2: x4 - 80, x3: x4 + 520}\n"
          ]
        }
      ]
    }
  ]
}