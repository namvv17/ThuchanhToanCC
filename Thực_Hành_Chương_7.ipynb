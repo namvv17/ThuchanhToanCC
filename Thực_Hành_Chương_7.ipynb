{
  "nbformat": 4,
  "nbformat_minor": 0,
  "metadata": {
    "colab": {
      "name": "Thực Hành Chương 7",
      "provenance": [],
      "include_colab_link": true
    },
    "kernelspec": {
      "name": "python3",
      "display_name": "Python 3"
    },
    "language_info": {
      "name": "python"
    }
  },
  "cells": [
    {
      "cell_type": "markdown",
      "metadata": {
        "id": "view-in-github",
        "colab_type": "text"
      },
      "source": [
        "<a href=\"https://colab.research.google.com/github/namvv17/ThuchanhToanCC/blob/main/Th%E1%BB%B1c_H%C3%A0nh_Ch%C6%B0%C6%A1ng_7.ipynb\" target=\"_parent\"><img src=\"https://colab.research.google.com/assets/colab-badge.svg\" alt=\"Open In Colab\"/></a>"
      ]
    },
    {
      "cell_type": "markdown",
      "source": [
        "# **CHƯƠNG 7**"
      ],
      "metadata": {
        "id": "S8dSLR63WidD"
      }
    },
    {
      "cell_type": "markdown",
      "source": [
        "1. Một số lưu ý khi sử dụng sympy (phần 1) \n",
        "\n",
        "Dưới đây là một số lưu ý khi sử dụng sympy mà người sử dụng cần biết: \n",
        " SymPy chạy trên nền ngôn ngữ lập trình Python, do đó, nhiều thứ có khác so với trong các hệ đại số trên máy tính độc lập như Maple hoặc Mathematica.\n",
        "\n",
        " C, O, S, I, N, E, và Q là những biến đặc biệt riêng; tốt nhất, chúng ta không nên sử dụng những biến đó. Ví dụ, I đại diện cho đơn vị ảo và E đại diện cho số Euler.\n",
        "\n",
        " SymPy, giống như Python, mọi lệnh nhân phải tường minh, nghĩa là không thể ghi 2x mà phải ghi là 2*x.\n",
        "\n",
        " Chúng ta có thể chuyển đổi bất kì chuỗi nào vàp trong biểu thức sử dụng hàm sympify(). Điều này sẽ tự động định nghĩa biến cho chúng ta. Ví dụ: chúng ta chỉ việc nhập lệnh sympify(\"a^2 + cos(b)\")và nó sẽ hoạt động.\n",
        "\n",
        " Chúng ta có thể lưu trữ các giá trị đặc biệt trong các biến thường để chúng ta có thể không cần phải thêm \".evalf()\" mỗi khi sử dụng biến. Ví dụ: x=pi.evalf() hoặc y=E.evalf().\n",
        "\n",
        " Phương pháp tốt nhất để kiểm tra sự bằng nhau là sử dụng hàm simplify để kiểm tra sự khác nhau giữa hai biểu thức như thế nào. Ví dụ, để kiểm tra sự bằng nhau của (x-1)**2 và x**2 -2*x + 1, chúng ta chỉ cần lệnh >>> print simplify((x-1) ** 2 - (x**2 - 2*x + 1)) và xem kết quả nếu bằng 0. Nếu chúng ta nghi ngờ biểu thức bằng 0 thì chúng ta có thể khẳng định lần nữa bằng lệnh expr.equals(0); câu trả lời False nếu biểu thức không bằng 0 (không thể) và None nếu nó không thể quyết định (lúc bằng lúc không).\n",
        "\n",
        " Một số hàm SymPy được đặt tên khác với tên trong hệ thống. Cụ thể, các hàm đảo trong SymPy là asin, acos, và atan mà không phải là arcsin/arccos/arctan\n"
      ],
      "metadata": {
        "id": "VNxCuSJWzKm2"
      }
    },
    {
      "cell_type": "markdown",
      "source": [
        "# **thuc hanh 1: Tích phân không xác định loại 1:**"
      ],
      "metadata": {
        "id": "o8YGM-Q6zp8_"
      }
    },
    {
      "cell_type": "code",
      "execution_count": null,
      "metadata": {
        "colab": {
          "base_uri": "https://localhost:8080/",
          "height": 38
        },
        "id": "XXWgjsWGwcOm",
        "outputId": "e4f8ad64-e7e6-452f-923b-4afef0bd80f1"
      },
      "outputs": [
        {
          "output_type": "execute_result",
          "data": {
            "text/plain": [
              "oo"
            ],
            "text/latex": "$\\displaystyle \\infty$"
          },
          "metadata": {},
          "execution_count": 1
        }
      ],
      "source": [
        "from sympy import Symbol, Integral \n",
        "x = Symbol('x') \n",
        "f = 1.0/x \n",
        "unbound1 = Integral(f, (x, 0, 2)) \n",
        "unbound1.doit()"
      ]
    },
    {
      "cell_type": "code",
      "source": [
        ""
      ],
      "metadata": {
        "id": "H3KL0eoOWp7e"
      },
      "execution_count": null,
      "outputs": []
    },
    {
      "cell_type": "markdown",
      "source": [
        "# **thuc hanh 2: Tích phân không xác định loại 2:**"
      ],
      "metadata": {
        "id": "olgDGhSL0Fdz"
      }
    },
    {
      "cell_type": "code",
      "source": [
        "from sympy import Symbol, Integral \n",
        "x = Symbol('x') \n",
        "f = 1.0/x**2 \n",
        "unbound2 = Integral(f, (x, -1, 1)) \n",
        "unbound2.doit() "
      ],
      "metadata": {
        "colab": {
          "base_uri": "https://localhost:8080/",
          "height": 38
        },
        "id": "JU4Ll3N50Iqf",
        "outputId": "d32f8740-a6c5-4471-88ce-2c6191728276"
      },
      "execution_count": null,
      "outputs": [
        {
          "output_type": "execute_result",
          "data": {
            "text/plain": [
              "oo"
            ],
            "text/latex": "$\\displaystyle \\infty$"
          },
          "metadata": {},
          "execution_count": 2
        }
      ]
    },
    {
      "cell_type": "markdown",
      "source": [
        "#**thuc hanh 3: Tích phân không liên tục**"
      ],
      "metadata": {
        "id": "NS00Q32R0XOK"
      }
    },
    {
      "cell_type": "code",
      "source": [
        "from sympy import Symbol, Integral, Abs \n",
        "x = Symbol('x') \n",
        "f = Abs(x) \n",
        "discontinous1 = Integral(f, (x, -1, 2)) \n",
        "discontinous1.doit()"
      ],
      "metadata": {
        "colab": {
          "base_uri": "https://localhost:8080/",
          "height": 51
        },
        "id": "tKbvyCaY0ZUf",
        "outputId": "4326d8e5-adef-4b90-da8a-0edaa859723d"
      },
      "execution_count": null,
      "outputs": [
        {
          "output_type": "execute_result",
          "data": {
            "text/plain": [
              "5/2"
            ],
            "text/latex": "$\\displaystyle \\frac{5}{2}$"
          },
          "metadata": {},
          "execution_count": 3
        }
      ]
    },
    {
      "cell_type": "markdown",
      "source": [
        "# **thuc hanh 4: Tích phân có hàm thỏa không tồn tại trong miền xác định (thực)**"
      ],
      "metadata": {
        "id": "o0WPNjtn0obQ"
      }
    },
    {
      "cell_type": "code",
      "source": [
        " from sympy import Symbol, Integral \n",
        "x = Symbol('x') \n",
        "f = x**(0.5) \n",
        "undef1 = Integral(f, (x, -1, 1)) \n",
        "undef1.doit()"
      ],
      "metadata": {
        "colab": {
          "base_uri": "https://localhost:8080/",
          "height": 39
        },
        "id": "_1BPRDqS0rkl",
        "outputId": "40aabf2b-6f79-4245-b1eb-929b63bf4f85"
      },
      "execution_count": null,
      "outputs": [
        {
          "output_type": "execute_result",
          "data": {
            "text/plain": [
              "0.666666666666667 + 0.666666666666667*I"
            ],
            "text/latex": "$\\displaystyle 0.666666666666667 + 0.666666666666667 i$"
          },
          "metadata": {},
          "execution_count": 4
        }
      ]
    },
    {
      "cell_type": "markdown",
      "source": [
        "1.2. Chỉ số CO về cung lượng tim – Cardinal Output Huyết áp – Blood Pressure được chia thành 2 chỉ số áp lực trong máu: tâm thu (systolic) và tâm trương (diastolic). Bình thường chỉ số đọc được là 120/80 (đơn vị là mg thủy ngân). Vấn đề: làm cách nào có những chỉ số đo đó để chúng ta có thể can thiệp vào chúng như thế nào? Hoặc câu hỏi đơn giản sự chính xác của thiết bị đo như thế nào giả định ta biết được phương pháp đo của thiết bị?Cung lượng tim nói nôm na là chỉ số áp lực máu phản xạ theo lực các vành động mạch (arterial \n",
        "walls). Áp lực này tạo thành do nhịp đập từ tim trong Chu trình tuần hoàn (Cardiac cycle) của máu. Với toán học, chúng ta có thể sử dụng tích phân để tìm ra cung lượng tim (lượng máu tim bơm) trong một khoảng thời gian nhất định."
      ],
      "metadata": {
        "id": "qNkYLekb0-oz"
      }
    },
    {
      "cell_type": "markdown",
      "source": [
        "# **thuc hanh 5: Một máy đo đo được lượng thuốc nhuộm trong máu với số liệu như sau:**"
      ],
      "metadata": {
        "id": "ou4xJohZ1dvr"
      }
    },
    {
      "cell_type": "code",
      "source": [
        "from scipy import integrate\n",
        "import numpy as np\n",
        "y = np.array([0.0, 4.1, 8.9, 8.5, 6.7, 4.3, 2.5, 1.2,0.2]) \n",
        "x = np.arange(0,9) \n",
        "integrate.simps(y, x)\n"
      ],
      "metadata": {
        "colab": {
          "base_uri": "https://localhost:8080/"
        },
        "id": "ZlbaSdMA1f3I",
        "outputId": "d16b61ad-b883-4307-c750-01822dbee369"
      },
      "execution_count": null,
      "outputs": [
        {
          "output_type": "execute_result",
          "data": {
            "text/plain": [
              "36.26666666666666"
            ]
          },
          "metadata": {},
          "execution_count": 5
        }
      ]
    },
    {
      "cell_type": "markdown",
      "source": [
        "Vì cứ mỗi 2 giây nên trong công thức tính Simpson, ∆\u0003 = 2. Do đó chúng ta phải nhân 2 kết quả:"
      ],
      "metadata": {
        "id": "bP6SXzpF1sms"
      }
    },
    {
      "cell_type": "code",
      "source": [
        "S = 2*integrate.simps(y, x)"
      ],
      "metadata": {
        "id": "r5WAV0ZO1v07"
      },
      "execution_count": null,
      "outputs": []
    },
    {
      "cell_type": "markdown",
      "source": [
        "Từ đó, ta có cung lượng tim là"
      ],
      "metadata": {
        "id": "ovYppknL16s_"
      }
    },
    {
      "cell_type": "code",
      "source": [
        "A = 5.5 \n",
        "F = A/S * 60\n",
        "F"
      ],
      "metadata": {
        "colab": {
          "base_uri": "https://localhost:8080/"
        },
        "id": "_rdOj6sn17PN",
        "outputId": "46b3bcb3-fb16-4433-96c0-683f6392f7fc"
      },
      "execution_count": null,
      "outputs": [
        {
          "output_type": "execute_result",
          "data": {
            "text/plain": [
              "4.5496323529411775"
            ]
          },
          "metadata": {},
          "execution_count": 7
        }
      ]
    },
    {
      "cell_type": "markdown",
      "source": [
        "#**thuc hanh 8: Xử lý dãy số (sequence) trong sympy**"
      ],
      "metadata": {
        "id": "IAQ-Fobj2SQz"
      }
    },
    {
      "cell_type": "code",
      "source": [
        "from sympy import difference_delta as dd \n",
        "from sympy.abc import n \n",
        "dd(n*(n+1), n)"
      ],
      "metadata": {
        "colab": {
          "base_uri": "https://localhost:8080/",
          "height": 39
        },
        "id": "LVuEOIzV2VOx",
        "outputId": "64a52bcc-0176-46bb-96da-0ac5b16ab5c6"
      },
      "execution_count": null,
      "outputs": [
        {
          "output_type": "execute_result",
          "data": {
            "text/plain": [
              "2*n + 2"
            ],
            "text/latex": "$\\displaystyle 2 n + 2$"
          },
          "metadata": {},
          "execution_count": 8
        }
      ]
    },
    {
      "cell_type": "code",
      "source": [
        "from sympy import difference_delta as dd \n",
        "from sympy.abc import n \n",
        "dd(n*(n+1), n, 2) "
      ],
      "metadata": {
        "colab": {
          "base_uri": "https://localhost:8080/",
          "height": 39
        },
        "id": "X0DYaKn-2dx3",
        "outputId": "09a3967d-054f-49d4-e92d-2ab70f3bb851"
      },
      "execution_count": null,
      "outputs": [
        {
          "output_type": "execute_result",
          "data": {
            "text/plain": [
              "4*n + 6"
            ],
            "text/latex": "$\\displaystyle 4 n + 6$"
          },
          "metadata": {},
          "execution_count": 9
        }
      ]
    },
    {
      "cell_type": "markdown",
      "source": [
        "# **Giới hạn dãy số: bằng hàm limit_seq với hai tham số: hàm và giá trị biến chạy**"
      ],
      "metadata": {
        "id": "1TA7nVUY23XT"
      }
    },
    {
      "cell_type": "code",
      "source": [
        "from sympy.abc import n, k \n",
        "from sympy import limit_seq \n",
        "limit_seq((3*n**3+5*n**2+4)/(5*n**3+200*n**2+400), n)"
      ],
      "metadata": {
        "colab": {
          "base_uri": "https://localhost:8080/",
          "height": 51
        },
        "id": "i0aWOX-P25zb",
        "outputId": "05d81768-d9a2-4f7a-9adc-d36405b95f2f"
      },
      "execution_count": null,
      "outputs": [
        {
          "output_type": "execute_result",
          "data": {
            "text/plain": [
              "3/5"
            ],
            "text/latex": "$\\displaystyle \\frac{3}{5}$"
          },
          "metadata": {},
          "execution_count": 10
        }
      ]
    },
    {
      "cell_type": "markdown",
      "source": [
        "**Sinh viên hãy tính giới hạn:**"
      ],
      "metadata": {
        "id": "bDIo8b0I3Nlz"
      }
    },
    {
      "cell_type": "code",
      "source": [
        "\n",
        "from sympy.abc import n, k, m \n",
        "from sympy import Sum\n",
        "limit_seq(Sum(k**2 * Sum(2**m/m,(m,1,k)),(k,1,n))/(2**n*n), n)"
      ],
      "metadata": {
        "colab": {
          "base_uri": "https://localhost:8080/",
          "height": 38
        },
        "id": "t3PdkjG03C5S",
        "outputId": "08fdcc20-472e-4443-d275-19efbaa0b609"
      },
      "execution_count": null,
      "outputs": [
        {
          "output_type": "execute_result",
          "data": {
            "text/plain": [
              "4"
            ],
            "text/latex": "$\\displaystyle 4$"
          },
          "metadata": {},
          "execution_count": 11
        }
      ]
    },
    {
      "cell_type": "code",
      "source": [
        "from sympy import series \n",
        "from sympy import Sum \n",
        "from sympy.series.limitseq import dominant \n",
        "from sympy.abc import n,k \n",
        "dominant(n**3+100*n**2+200*n+1, n) "
      ],
      "metadata": {
        "colab": {
          "base_uri": "https://localhost:8080/",
          "height": 39
        },
        "id": "pLXtRI8y31m4",
        "outputId": "646ce39a-97ea-4b80-ce90-dda31741646c"
      },
      "execution_count": null,
      "outputs": [
        {
          "output_type": "execute_result",
          "data": {
            "text/plain": [
              "n**3"
            ],
            "text/latex": "$\\displaystyle n^{3}$"
          },
          "metadata": {},
          "execution_count": 12
        }
      ]
    },
    {
      "cell_type": "code",
      "source": [
        " dominant(2**n + Sum(k, (k,0,n)), n)"
      ],
      "metadata": {
        "colab": {
          "base_uri": "https://localhost:8080/",
          "height": 38
        },
        "id": "ckGpc80z4BcQ",
        "outputId": "f050b458-deab-417f-9598-e2dcd2ccc9cf"
      },
      "execution_count": null,
      "outputs": [
        {
          "output_type": "execute_result",
          "data": {
            "text/plain": [
              "2**n"
            ],
            "text/latex": "$\\displaystyle 2^{n}$"
          },
          "metadata": {},
          "execution_count": 13
        }
      ]
    },
    {
      "cell_type": "code",
      "source": [
        " dominant(n**2 + Sum(k, (k,0,n)), n)"
      ],
      "metadata": {
        "id": "Dbn5wBSh4Dzt"
      },
      "execution_count": null,
      "outputs": []
    },
    {
      "cell_type": "code",
      "source": [
        "dominant(2*n**2 + Sum(k, (k,0,n)), n) "
      ],
      "metadata": {
        "id": "S8uj9-dT4NDv"
      },
      "execution_count": null,
      "outputs": []
    },
    {
      "cell_type": "code",
      "source": [
        "dominant(2*n**2 + Sum(k, (k,0,n)), n) "
      ],
      "metadata": {
        "id": "9P8drLGR4O_j"
      },
      "execution_count": null,
      "outputs": []
    },
    {
      "cell_type": "code",
      "source": [
        "dominant(n*3 + Sum(k, (k,0,n)), n)"
      ],
      "metadata": {
        "colab": {
          "base_uri": "https://localhost:8080/",
          "height": 67
        },
        "id": "vNx71eng4Pq1",
        "outputId": "dafd7bbb-5ce9-4199-d077-0cd80fc86335"
      },
      "execution_count": null,
      "outputs": [
        {
          "output_type": "execute_result",
          "data": {
            "text/plain": [
              "Sum(k, (k, 0, n))"
            ],
            "text/latex": "$\\displaystyle \\sum_{k=0}^{n} k$"
          },
          "metadata": {},
          "execution_count": 17
        }
      ]
    },
    {
      "cell_type": "code",
      "source": [
        "dominant(2*n*3 + Sum(k, (k,0,n)), n) "
      ],
      "metadata": {
        "colab": {
          "base_uri": "https://localhost:8080/",
          "height": 67
        },
        "id": "FvplC-sT4Tg-",
        "outputId": "9645e15f-708b-4348-85e2-6eb3d279ad8a"
      },
      "execution_count": null,
      "outputs": [
        {
          "output_type": "execute_result",
          "data": {
            "text/plain": [
              "Sum(k, (k, 0, n))"
            ],
            "text/latex": "$\\displaystyle \\sum_{k=0}^{n} k$"
          },
          "metadata": {},
          "execution_count": 18
        }
      ]
    },
    {
      "cell_type": "code",
      "source": [
        "dominant(2*n**3 + Sum(k, (k,0,n)), n) "
      ],
      "metadata": {
        "colab": {
          "base_uri": "https://localhost:8080/",
          "height": 39
        },
        "id": "-4npfIHm4YZB",
        "outputId": "f06113dd-37eb-4271-814c-e591b371d849"
      },
      "execution_count": null,
      "outputs": [
        {
          "output_type": "execute_result",
          "data": {
            "text/plain": [
              "2*n**3"
            ],
            "text/latex": "$\\displaystyle 2 n^{3}$"
          },
          "metadata": {},
          "execution_count": 19
        }
      ]
    },
    {
      "cell_type": "markdown",
      "source": [
        "#**Thực hành 9: Xử lý chuỗi số (series) trong sympy **"
      ],
      "metadata": {
        "id": "VvqTccUy4bcY"
      }
    },
    {
      "cell_type": "markdown",
      "source": [
        "**Khai báo chuỗi số: **"
      ],
      "metadata": {
        "id": "hXnBkiDr4nPd"
      }
    },
    {
      "cell_type": "code",
      "source": [
        "from sympy import Sum \n",
        "from sympy.abc import n, k \n",
        "S = Sum(k, (k, 0, n))\n",
        "S"
      ],
      "metadata": {
        "colab": {
          "base_uri": "https://localhost:8080/",
          "height": 67
        },
        "id": "V4F_qMTQ4hDw",
        "outputId": "c00de3fb-43be-49a6-bf6c-76f80a48bc75"
      },
      "execution_count": null,
      "outputs": [
        {
          "output_type": "execute_result",
          "data": {
            "text/plain": [
              "Sum(k, (k, 0, n))"
            ],
            "text/latex": "$\\displaystyle \\sum_{k=0}^{n} k$"
          },
          "metadata": {},
          "execution_count": 20
        }
      ]
    },
    {
      "cell_type": "markdown",
      "source": [
        "**Khai báo chuỗi số: **"
      ],
      "metadata": {
        "id": "8WhiCViL4pDh"
      }
    },
    {
      "cell_type": "code",
      "source": [
        "from sympy import limit_seq \n",
        "limit_seq(S, n) "
      ],
      "metadata": {
        "colab": {
          "base_uri": "https://localhost:8080/",
          "height": 38
        },
        "id": "94vJdfdI4sf0",
        "outputId": "a9c67fcb-ed19-4ae4-a7c3-9b63c0844730"
      },
      "execution_count": null,
      "outputs": [
        {
          "output_type": "execute_result",
          "data": {
            "text/plain": [
              "oo"
            ],
            "text/latex": "$\\displaystyle \\infty$"
          },
          "metadata": {},
          "execution_count": 21
        }
      ]
    },
    {
      "cell_type": "markdown",
      "source": [
        "**“Chuỗi hóa” một hàm số **"
      ],
      "metadata": {
        "id": "nQXj3x4s4vRE"
      }
    },
    {
      "cell_type": "code",
      "source": [
        "from sympy import Symbol, cos, series \n",
        "x = Symbol('x') \n",
        "S1 = series(cos(x), x) \n",
        "S1"
      ],
      "metadata": {
        "colab": {
          "base_uri": "https://localhost:8080/",
          "height": 54
        },
        "id": "CB13mctS4wPZ",
        "outputId": "8d983182-f8b9-4ef8-ec11-98048549fc12"
      },
      "execution_count": null,
      "outputs": [
        {
          "output_type": "execute_result",
          "data": {
            "text/plain": [
              "1 - x**2/2 + x**4/24 + O(x**6)"
            ],
            "text/latex": "$\\displaystyle 1 - \\frac{x^{2}}{2} + \\frac{x^{4}}{24} + O\\left(x^{6}\\right)$"
          },
          "metadata": {},
          "execution_count": 22
        }
      ]
    },
    {
      "cell_type": "markdown",
      "source": [
        "**Tính toán chuỗi: **"
      ],
      "metadata": {
        "id": "JufzczR543c3"
      }
    },
    {
      "cell_type": "code",
      "source": [
        "from sympy.abc import n \n",
        "e = (1+1/n)**n \n",
        "print (round(e.subs(n, 100).evalf(),10))"
      ],
      "metadata": {
        "colab": {
          "base_uri": "https://localhost:8080/"
        },
        "id": "qvhMIy3Z46r5",
        "outputId": "55a7d7b0-48c9-42ae-f59d-de804b656a1a"
      },
      "execution_count": null,
      "outputs": [
        {
          "output_type": "stream",
          "name": "stdout",
          "text": [
            "2.7048138294\n"
          ]
        }
      ]
    }
  ]
}