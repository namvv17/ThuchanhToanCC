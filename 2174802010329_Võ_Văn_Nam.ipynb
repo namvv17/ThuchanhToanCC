{
  "nbformat": 4,
  "nbformat_minor": 0,
  "metadata": {
    "colab": {
      "name": "2174802010329-Võ Văn Nam.ipynb",
      "provenance": [],
      "authorship_tag": "ABX9TyPx/jzytSKaCk4dHyomReKn",
      "include_colab_link": true
    },
    "kernelspec": {
      "name": "python3",
      "display_name": "Python 3"
    },
    "language_info": {
      "name": "python"
    }
  },
  "cells": [
    {
      "cell_type": "markdown",
      "metadata": {
        "id": "view-in-github",
        "colab_type": "text"
      },
      "source": [
        "<a href=\"https://colab.research.google.com/github/namvv17/ThuchanhToanCC/blob/main/2174802010329_V%C3%B5_V%C4%83n_Nam.ipynb\" target=\"_parent\"><img src=\"https://colab.research.google.com/assets/colab-badge.svg\" alt=\"Open In Colab\"/></a>"
      ]
    },
    {
      "cell_type": "markdown",
      "source": [
        "**1.Bài 1** \n"
      ],
      "metadata": {
        "id": "j6dvmP5bpf8p"
      }
    },
    {
      "cell_type": "code",
      "source": [
        "from sympy import Symbol, Derivative\n",
        "x = Symbol('x')\n",
        "tich_phan =(2*x-1)/(x+1)\n",
        "ket_qua = Integral(tich_phan,(x,0,1))\n",
        "ket_qua"
      ],
      "metadata": {
        "colab": {
          "base_uri": "https://localhost:8080/",
          "height": 79
        },
        "id": "idikbivNuDci",
        "outputId": "a2faba94-613e-4642-bc45-f7cd49f52deb"
      },
      "execution_count": 4,
      "outputs": [
        {
          "output_type": "execute_result",
          "data": {
            "text/plain": [
              "Integral((2*x - 1)/(x + 1), (x, 0, 1))"
            ],
            "text/latex": "$\\displaystyle \\int\\limits_{0}^{1} \\frac{2 x - 1}{x + 1}\\, dx$"
          },
          "metadata": {},
          "execution_count": 4
        }
      ]
    },
    {
      "cell_type": "code",
      "source": [
        "ket_qua.doit()"
      ],
      "metadata": {
        "colab": {
          "base_uri": "https://localhost:8080/",
          "height": 37
        },
        "id": "zXXNeNjYuMJI",
        "outputId": "2f53f88b-a192-4cbf-d354-92049d63d8c1"
      },
      "execution_count": 5,
      "outputs": [
        {
          "output_type": "execute_result",
          "data": {
            "text/plain": [
              "2 - 3*log(2)"
            ],
            "text/latex": "$\\displaystyle 2 - 3 \\log{\\left(2 \\right)}$"
          },
          "metadata": {},
          "execution_count": 5
        }
      ]
    },
    {
      "cell_type": "markdown",
      "source": [
        "**Bài 5**"
      ],
      "metadata": {
        "id": "ssg4SG2AuODR"
      }
    },
    {
      "cell_type": "code",
      "source": [
        "x = Symbol('x')\n",
        "tich_phan1 = (2*x+1)/(x*(x+1))\n",
        "ket_qua = Integral(tich_phan1,(x,1,2))\n",
        "ket_qua"
      ],
      "metadata": {
        "colab": {
          "base_uri": "https://localhost:8080/",
          "height": 79
        },
        "id": "E0aQCE9uuPVW",
        "outputId": "734ddad4-9de9-4720-e73c-252f783fa46b"
      },
      "execution_count": 6,
      "outputs": [
        {
          "output_type": "execute_result",
          "data": {
            "text/plain": [
              "Integral((2*x + 1)/(x*(x + 1)), (x, 1, 2))"
            ],
            "text/latex": "$\\displaystyle \\int\\limits_{1}^{2} \\frac{2 x + 1}{x \\left(x + 1\\right)}\\, dx$"
          },
          "metadata": {},
          "execution_count": 6
        }
      ]
    },
    {
      "cell_type": "code",
      "source": [
        "ket_qua.doit()"
      ],
      "metadata": {
        "colab": {
          "base_uri": "https://localhost:8080/",
          "height": 37
        },
        "id": "NyBLluPnuWDF",
        "outputId": "8b2092f3-1f86-4b3a-f44a-facc217c00fc"
      },
      "execution_count": 7,
      "outputs": [
        {
          "output_type": "execute_result",
          "data": {
            "text/plain": [
              "-log(2) + log(6)"
            ],
            "text/latex": "$\\displaystyle - \\log{\\left(2 \\right)} + \\log{\\left(6 \\right)}$"
          },
          "metadata": {},
          "execution_count": 7
        }
      ]
    },
    {
      "cell_type": "markdown",
      "source": [
        "**Tính đạo hàm **"
      ],
      "metadata": {
        "id": "A-M9YyRRuXsp"
      }
    },
    {
      "cell_type": "markdown",
      "source": [
        "2"
      ],
      "metadata": {
        "id": "9T7DGIHruwCz"
      }
    },
    {
      "cell_type": "code",
      "source": [
        "from sympy import Derivative, Symbol\n",
        "x = Symbol('x')\n",
        "f = (2*x-1)/(x+2)\n",
        "f"
      ],
      "metadata": {
        "colab": {
          "base_uri": "https://localhost:8080/",
          "height": 52
        },
        "id": "wvatXk4Vucf2",
        "outputId": "1c948514-824d-413b-cab5-678be46e8be6"
      },
      "execution_count": 9,
      "outputs": [
        {
          "output_type": "execute_result",
          "data": {
            "text/plain": [
              "(2*x - 1)/(x + 2)"
            ],
            "text/latex": "$\\displaystyle \\frac{2 x - 1}{x + 2}$"
          },
          "metadata": {},
          "execution_count": 9
        }
      ]
    },
    {
      "cell_type": "code",
      "source": [
        "Derivative(f, x).doit()"
      ],
      "metadata": {
        "colab": {
          "base_uri": "https://localhost:8080/",
          "height": 58
        },
        "id": "hAM5QycOulnB",
        "outputId": "e1077201-0681-4f6e-f570-ae4e8121b2ad"
      },
      "execution_count": 10,
      "outputs": [
        {
          "output_type": "execute_result",
          "data": {
            "text/plain": [
              "2/(x + 2) - (2*x - 1)/(x + 2)**2"
            ],
            "text/latex": "$\\displaystyle \\frac{2}{x + 2} - \\frac{2 x - 1}{\\left(x + 2\\right)^{2}}$"
          },
          "metadata": {},
          "execution_count": 10
        }
      ]
    },
    {
      "cell_type": "markdown",
      "source": [
        "6"
      ],
      "metadata": {
        "id": "QCWuOMLWuoWy"
      }
    },
    {
      "cell_type": "code",
      "source": [
        "f = 2/3*x**3-5*x**2+2*x+4\n",
        "f"
      ],
      "metadata": {
        "colab": {
          "base_uri": "https://localhost:8080/",
          "height": 38
        },
        "id": "XSxgGQjeunjD",
        "outputId": "d7bbf0e1-bcbe-496a-c183-6c3f1de45fd8"
      },
      "execution_count": 11,
      "outputs": [
        {
          "output_type": "execute_result",
          "data": {
            "text/plain": [
              "0.666666666666667*x**3 - 5*x**2 + 2*x + 4"
            ],
            "text/latex": "$\\displaystyle 0.666666666666667 x^{3} - 5 x^{2} + 2 x + 4$"
          },
          "metadata": {},
          "execution_count": 11
        }
      ]
    },
    {
      "cell_type": "code",
      "source": [
        "Derivative(f, x).doit()"
      ],
      "metadata": {
        "colab": {
          "base_uri": "https://localhost:8080/",
          "height": 38
        },
        "id": "Lbp1axykutz0",
        "outputId": "27b79eed-ddfb-4b8f-c42c-bd4ba7c1239f"
      },
      "execution_count": 12,
      "outputs": [
        {
          "output_type": "execute_result",
          "data": {
            "text/plain": [
              "2.0*x**2 - 10*x + 2"
            ],
            "text/latex": "$\\displaystyle 2.0 x^{2} - 10 x + 2$"
          },
          "metadata": {},
          "execution_count": 12
        }
      ]
    }
  ]
}